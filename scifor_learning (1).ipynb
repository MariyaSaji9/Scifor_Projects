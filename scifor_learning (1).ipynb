{
  "nbformat": 4,
  "nbformat_minor": 0,
  "metadata": {
    "colab": {
      "provenance": []
    },
    "kernelspec": {
      "name": "python3",
      "display_name": "Python 3"
    },
    "language_info": {
      "name": "python"
    }
  },
  "cells": [
    {
      "cell_type": "markdown",
      "source": [
        "create a series obj which consist array having values first 7 multiples of 5\n",
        "\n",
        "1.   List item\n",
        "2.   List item\n",
        "\n"
      ],
      "metadata": {
        "id": "R_ptCpowSsPv"
      }
    },
    {
      "cell_type": "code",
      "execution_count": null,
      "metadata": {
        "id": "fd4VyXnaRnoo"
      },
      "outputs": [],
      "source": [
        "import pandas as pd\n",
        "import numpy as np"
      ]
    },
    {
      "cell_type": "code",
      "source": [
        "arr = np.array([5,10,15,20,25,30,35])\n",
        "ser = pd.Series(arr, index = [100, 101, 102, 103, 104, 105, 106])"
      ],
      "metadata": {
        "id": "7aBYS7kSS95P"
      },
      "execution_count": null,
      "outputs": []
    },
    {
      "cell_type": "code",
      "source": [
        "ser"
      ],
      "metadata": {
        "colab": {
          "base_uri": "https://localhost:8080/"
        },
        "id": "W3a5zEt0S9pm",
        "outputId": "267f4db3-335d-4995-df18-d72133c7c003"
      },
      "execution_count": null,
      "outputs": [
        {
          "output_type": "execute_result",
          "data": {
            "text/plain": [
              "0     5\n",
              "1    10\n",
              "2    15\n",
              "3    20\n",
              "4    25\n",
              "5    30\n",
              "6    35\n",
              "dtype: int64"
            ]
          },
          "metadata": {},
          "execution_count": 3
        }
      ]
    },
    {
      "cell_type": "markdown",
      "source": [
        "crt series of arr along with indexes having alphabets of your name"
      ],
      "metadata": {
        "id": "xkALUcfrYgq0"
      }
    },
    {
      "cell_type": "code",
      "source": [
        "name = np.array(['m','a','r','i','y','a'])\n",
        "ser1 = pd.Series(name, index = [100, 101, 102, 103, 104, 105])\n",
        "ser1"
      ],
      "metadata": {
        "colab": {
          "base_uri": "https://localhost:8080/"
        },
        "id": "Vl7ED8iiYpRU",
        "outputId": "1d753b35-7df0-4a98-b0fa-15cb22383cb7"
      },
      "execution_count": null,
      "outputs": [
        {
          "output_type": "execute_result",
          "data": {
            "text/plain": [
              "100    m\n",
              "101    a\n",
              "102    r\n",
              "103    i\n",
              "104    y\n",
              "105    a\n",
              "dtype: object"
            ]
          },
          "metadata": {},
          "execution_count": 5
        }
      ]
    },
    {
      "cell_type": "markdown",
      "source": [
        "crt a series obj using list containg values as the leep years from 1990 till 2030"
      ],
      "metadata": {
        "id": "ZLVMAeFmY7fw"
      }
    },
    {
      "cell_type": "code",
      "source": [
        "leap_year = [1992, 1996, 2000, 2004, 2008, 2012, 2016, 2020, 2024, 2028]\n",
        "ser2 = pd.Series(leap_year)\n",
        "ser2"
      ],
      "metadata": {
        "colab": {
          "base_uri": "https://localhost:8080/"
        },
        "id": "ou4qELgyZILQ",
        "outputId": "517c1c20-205b-4dca-c9c0-2bf6a0522978"
      },
      "execution_count": null,
      "outputs": [
        {
          "output_type": "execute_result",
          "data": {
            "text/plain": [
              "0    1992\n",
              "1    1996\n",
              "2    2000\n",
              "3    2004\n",
              "4    2008\n",
              "5    2012\n",
              "6    2016\n",
              "7    2020\n",
              "8    2024\n",
              "9    2028\n",
              "dtype: int64"
            ]
          },
          "metadata": {},
          "execution_count": 6
        }
      ]
    },
    {
      "cell_type": "markdown",
      "source": [
        "crt series obj using dict having key as name of states and values are corresponding capitals (7 states)"
      ],
      "metadata": {
        "id": "JykzKsrTZJar"
      }
    },
    {
      "cell_type": "code",
      "source": [
        "dict = {'Kerala' : 'Thiruvananthapuram', 'Tamil Nadu' : 'Chennai', 'Arunachal Pradesh' :\t'Itanagar', 'Assam' :\t'Dispur', 'Bihar': 'Patna', 'Chhattisgarh' :\t'Raipur', 'Manipur' : 'Imphal'}\n",
        "ser3 = pd.Series(dict)\n",
        "ser3"
      ],
      "metadata": {
        "colab": {
          "base_uri": "https://localhost:8080/"
        },
        "id": "WbyE2_fNZqDa",
        "outputId": "c5f7f6f1-887e-4e22-f7a4-85cc25e6e566"
      },
      "execution_count": null,
      "outputs": [
        {
          "output_type": "execute_result",
          "data": {
            "text/plain": [
              "Kerala               Thiruvananthapuram\n",
              "Tamil Nadu                      Chennai\n",
              "Arunachal Pradesh              Itanagar\n",
              "Assam                            Dispur\n",
              "Bihar                             Patna\n",
              "Chhattisgarh                     Raipur\n",
              "Manipur                          Imphal\n",
              "dtype: object"
            ]
          },
          "metadata": {},
          "execution_count": 7
        }
      ]
    },
    {
      "cell_type": "markdown",
      "source": [
        "crt series obj giving a constant value yet to come with the indexes in the multiples of 11 (7 multiples)"
      ],
      "metadata": {
        "id": "zKMo4koXZqtO"
      }
    },
    {
      "cell_type": "code",
      "source": [
        "scalar = 'yet to come'\n",
        "ser4 = pd.Series(scalar, index = [11, 22, 33, 44, 55, 66, 77])\n",
        "ser4"
      ],
      "metadata": {
        "colab": {
          "base_uri": "https://localhost:8080/"
        },
        "id": "T7TE-3DAaHhv",
        "outputId": "4805fc22-fd13-4b42-cc65-6f205d40d908"
      },
      "execution_count": null,
      "outputs": [
        {
          "output_type": "execute_result",
          "data": {
            "text/plain": [
              "11    yet to come\n",
              "22    yet to come\n",
              "33    yet to come\n",
              "44    yet to come\n",
              "55    yet to come\n",
              "66    yet to come\n",
              "77    yet to come\n",
              "dtype: object"
            ]
          },
          "metadata": {},
          "execution_count": 12
        }
      ]
    },
    {
      "cell_type": "markdown",
      "source": [
        "crt a series obj to print multiples of 4 ranging btwn 1 to 100"
      ],
      "metadata": {
        "id": "ZGUMFJTaaIFc"
      }
    },
    {
      "cell_type": "code",
      "source": [
        "start = 4\n",
        "stop = 100\n",
        "num_values = (stop - start) // 4 + 1\n",
        "multiples_of_4 = np.linspace(start, stop, num=num_values, dtype = int)\n",
        "ser5 = pd.Series(multiples_of_4)\n",
        "ser5"
      ],
      "metadata": {
        "colab": {
          "base_uri": "https://localhost:8080/"
        },
        "id": "96lpPmXzadiq",
        "outputId": "5544651e-cbb0-4199-bfc5-47e52bce5474"
      },
      "execution_count": null,
      "outputs": [
        {
          "output_type": "execute_result",
          "data": {
            "text/plain": [
              "0       4\n",
              "1       8\n",
              "2      12\n",
              "3      16\n",
              "4      20\n",
              "5      24\n",
              "6      28\n",
              "7      32\n",
              "8      36\n",
              "9      40\n",
              "10     44\n",
              "11     48\n",
              "12     52\n",
              "13     56\n",
              "14     60\n",
              "15     64\n",
              "16     68\n",
              "17     72\n",
              "18     76\n",
              "19     80\n",
              "20     84\n",
              "21     88\n",
              "22     92\n",
              "23     96\n",
              "24    100\n",
              "dtype: int64"
            ]
          },
          "metadata": {},
          "execution_count": 13
        }
      ]
    }
  ]
}