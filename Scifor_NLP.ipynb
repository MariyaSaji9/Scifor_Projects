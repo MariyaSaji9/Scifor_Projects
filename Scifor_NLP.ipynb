{
  "nbformat": 4,
  "nbformat_minor": 0,
  "metadata": {
    "colab": {
      "provenance": []
    },
    "kernelspec": {
      "name": "python3",
      "display_name": "Python 3"
    },
    "language_info": {
      "name": "python"
    }
  },
  "cells": [
    {
      "cell_type": "markdown",
      "source": [
        "Write the code to convert text into lowercase, removing numbers, puntuation removing, whitespaces removing"
      ],
      "metadata": {
        "id": "Lhpfr0ol0V_K"
      }
    },
    {
      "cell_type": "code",
      "execution_count": null,
      "metadata": {
        "id": "TVs10Xfx0U5d"
      },
      "outputs": [],
      "source": [
        "import nltk\n",
        "import re\n",
        "import string"
      ]
    },
    {
      "cell_type": "code",
      "source": [
        "def txt_preprocess(txt):\n",
        "  # Make lowercase\n",
        "  text = txt.lower()\n",
        "  # Remove numbers\n",
        "  text = re.sub(r'\\d+', '', text)\n",
        "  # Remove punctuation\n",
        "  trans = str.maketrans('', '', string.punctuation)\n",
        "  text = text.translate(trans)\n",
        "  # Remove whitespace\n",
        "  text = ' '.join(text.split())\n",
        "\n",
        "  return text\n",
        "\n",
        "txt = input(\"input the text:\")\n",
        "preprocessed_txt = txt_preprocess(txt)\n",
        "print(preprocessed_txt)"
      ],
      "metadata": {
        "colab": {
          "base_uri": "https://localhost:8080/"
        },
        "id": "EtP73wZW0vTX",
        "outputId": "6274bfb1-3fc4-46e7-8ea3-0678961391e5"
      },
      "execution_count": null,
      "outputs": [
        {
          "output_type": "stream",
          "name": "stdout",
          "text": [
            "input the text:# Remove whitespace 2838 fjrieEIRIF   SIDI@!!DDOO  SJSSdddjdjd      ........\n",
            "remove whitespace fjrieeirif sididdoo sjssdddjdjd\n"
          ]
        }
      ]
    }
  ]
}