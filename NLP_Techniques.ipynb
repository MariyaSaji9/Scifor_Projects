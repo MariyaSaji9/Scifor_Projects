{
  "nbformat": 4,
  "nbformat_minor": 0,
  "metadata": {
    "colab": {
      "provenance": []
    },
    "kernelspec": {
      "name": "python3",
      "display_name": "Python 3"
    },
    "language_info": {
      "name": "python"
    }
  },
  "cells": [
    {
      "cell_type": "markdown",
      "source": [
        "perform the following nlp task using spacy and nltk.\n",
        "1. reading the words and sentences. the reference document would be definition of iot from google.\n",
        "2. separate the tokens, also split them using the list. reference para can be any.\n",
        "3. perform nlp task for extracting the hindi language.\n",
        "4. code to explain the text information and also style it.\n",
        "5. create a txt file, (name email) and extract the email.\n",
        "6. code to create the pipeline structure and display their pipenames."
      ],
      "metadata": {
        "id": "L3QQcmS9L9WO"
      }
    },
    {
      "cell_type": "code",
      "execution_count": null,
      "metadata": {
        "colab": {
          "base_uri": "https://localhost:8080/"
        },
        "id": "jR7PsDT_LvPo",
        "outputId": "b657f957-de3c-4074-eb08-9bf0cf858f6c"
      },
      "outputs": [
        {
          "output_type": "stream",
          "name": "stderr",
          "text": [
            "[nltk_data] Downloading package punkt to /root/nltk_data...\n",
            "[nltk_data]   Unzipping tokenizers/punkt.zip.\n"
          ]
        },
        {
          "output_type": "stream",
          "name": "stdout",
          "text": [
            "Sentences:\n",
            "IoT stands for Internet of Things.\n",
            "It refers to the interconnectedness of physical devices, such as appliances and vehicles, that are embedded with software, sensors, and connectivity which enables these objects to connect and exchange data.\n",
            "This technology allows for the collection and sharing of data from a vast network of devices, creating opportunities for more efficient and automated systems.Internet of Things (IoT) is the networking of physical objects that contain electronics embedded within their architecture in order to communicate and sense interactions amongst each other or with respect to the external environment.\n",
            "In the upcoming years, IoT-based technology will offer advanced levels of services and practically change the way people lead their daily lives.\n",
            "Advancements in medicine, power, gene therapies, agriculture, smart cities, and smart homes are just a few of the categorical examples where IoT is strongly established.\n"
          ]
        }
      ],
      "source": [
        "# word tokenizing, sent tokenizing using nltk\n",
        "import nltk\n",
        "from nltk.tokenize import word_tokenize, sent_tokenize\n",
        "nltk.download(\"punkt\")\n",
        "\n",
        "text = \"IoT stands for Internet of Things. It refers to the interconnectedness of physical devices, such as appliances and vehicles, that are embedded with software, sensors, and connectivity which enables these objects to connect and exchange data. This technology allows for the collection and sharing of data from a vast network of devices, creating opportunities for more efficient and automated systems.Internet of Things (IoT) is the networking of physical objects that contain electronics embedded within their architecture in order to communicate and sense interactions amongst each other or with respect to the external environment. In the upcoming years, IoT-based technology will offer advanced levels of services and practically change the way people lead their daily lives. Advancements in medicine, power, gene therapies, agriculture, smart cities, and smart homes are just a few of the categorical examples where IoT is strongly established.\"\n",
        "sentences = sent_tokenize(text)\n",
        "print(\"Sentences:\")\n",
        "for sentence in sentences:\n",
        "    print(sentence)"
      ]
    },
    {
      "cell_type": "code",
      "source": [
        "word_tokenize(text)"
      ],
      "metadata": {
        "colab": {
          "base_uri": "https://localhost:8080/"
        },
        "id": "GRFuF_PeYGs1",
        "outputId": "960a0f2a-cb08-4ddf-8fd1-71d64bfff982"
      },
      "execution_count": null,
      "outputs": [
        {
          "output_type": "execute_result",
          "data": {
            "text/plain": [
              "['IoT',\n",
              " 'stands',\n",
              " 'for',\n",
              " 'Internet',\n",
              " 'of',\n",
              " 'Things',\n",
              " '.',\n",
              " 'It',\n",
              " 'refers',\n",
              " 'to',\n",
              " 'the',\n",
              " 'interconnectedness',\n",
              " 'of',\n",
              " 'physical',\n",
              " 'devices',\n",
              " ',',\n",
              " 'such',\n",
              " 'as',\n",
              " 'appliances',\n",
              " 'and',\n",
              " 'vehicles',\n",
              " ',',\n",
              " 'that',\n",
              " 'are',\n",
              " 'embedded',\n",
              " 'with',\n",
              " 'software',\n",
              " ',',\n",
              " 'sensors',\n",
              " ',',\n",
              " 'and',\n",
              " 'connectivity',\n",
              " 'which',\n",
              " 'enables',\n",
              " 'these',\n",
              " 'objects',\n",
              " 'to',\n",
              " 'connect',\n",
              " 'and',\n",
              " 'exchange',\n",
              " 'data',\n",
              " '.',\n",
              " 'This',\n",
              " 'technology',\n",
              " 'allows',\n",
              " 'for',\n",
              " 'the',\n",
              " 'collection',\n",
              " 'and',\n",
              " 'sharing',\n",
              " 'of',\n",
              " 'data',\n",
              " 'from',\n",
              " 'a',\n",
              " 'vast',\n",
              " 'network',\n",
              " 'of',\n",
              " 'devices',\n",
              " ',',\n",
              " 'creating',\n",
              " 'opportunities',\n",
              " 'for',\n",
              " 'more',\n",
              " 'efficient',\n",
              " 'and',\n",
              " 'automated',\n",
              " 'systems.Internet',\n",
              " 'of',\n",
              " 'Things',\n",
              " '(',\n",
              " 'IoT',\n",
              " ')',\n",
              " 'is',\n",
              " 'the',\n",
              " 'networking',\n",
              " 'of',\n",
              " 'physical',\n",
              " 'objects',\n",
              " 'that',\n",
              " 'contain',\n",
              " 'electronics',\n",
              " 'embedded',\n",
              " 'within',\n",
              " 'their',\n",
              " 'architecture',\n",
              " 'in',\n",
              " 'order',\n",
              " 'to',\n",
              " 'communicate',\n",
              " 'and',\n",
              " 'sense',\n",
              " 'interactions',\n",
              " 'amongst',\n",
              " 'each',\n",
              " 'other',\n",
              " 'or',\n",
              " 'with',\n",
              " 'respect',\n",
              " 'to',\n",
              " 'the',\n",
              " 'external',\n",
              " 'environment',\n",
              " '.',\n",
              " 'In',\n",
              " 'the',\n",
              " 'upcoming',\n",
              " 'years',\n",
              " ',',\n",
              " 'IoT-based',\n",
              " 'technology',\n",
              " 'will',\n",
              " 'offer',\n",
              " 'advanced',\n",
              " 'levels',\n",
              " 'of',\n",
              " 'services',\n",
              " 'and',\n",
              " 'practically',\n",
              " 'change',\n",
              " 'the',\n",
              " 'way',\n",
              " 'people',\n",
              " 'lead',\n",
              " 'their',\n",
              " 'daily',\n",
              " 'lives',\n",
              " '.',\n",
              " 'Advancements',\n",
              " 'in',\n",
              " 'medicine',\n",
              " ',',\n",
              " 'power',\n",
              " ',',\n",
              " 'gene',\n",
              " 'therapies',\n",
              " ',',\n",
              " 'agriculture',\n",
              " ',',\n",
              " 'smart',\n",
              " 'cities',\n",
              " ',',\n",
              " 'and',\n",
              " 'smart',\n",
              " 'homes',\n",
              " 'are',\n",
              " 'just',\n",
              " 'a',\n",
              " 'few',\n",
              " 'of',\n",
              " 'the',\n",
              " 'categorical',\n",
              " 'examples',\n",
              " 'where',\n",
              " 'IoT',\n",
              " 'is',\n",
              " 'strongly',\n",
              " 'established',\n",
              " '.']"
            ]
          },
          "metadata": {},
          "execution_count": 2
        }
      ]
    },
    {
      "cell_type": "code",
      "source": [
        "# word tokenizing, sent tokenizing using spacy\n",
        "import spacy\n",
        "\n",
        "nlp = spacy.load(\"en_core_web_sm\")\n",
        "doc = nlp(text)\n",
        "tokens = [token.text for token in doc]\n",
        "print(\"\\nTokens:\")\n",
        "print(tokens)\n",
        "sentences = [sent.text for sent in doc.sents]\n",
        "print(\"\\nSentences:\")\n",
        "print(sentences)"
      ],
      "metadata": {
        "colab": {
          "base_uri": "https://localhost:8080/"
        },
        "id": "3SNKA2q6YQQr",
        "outputId": "36f47608-80fd-44ff-f331-79460fbc7319"
      },
      "execution_count": null,
      "outputs": [
        {
          "output_type": "stream",
          "name": "stdout",
          "text": [
            "\n",
            "Tokens:\n",
            "['IoT', 'stands', 'for', 'Internet', 'of', 'Things', '.', 'It', 'refers', 'to', 'the', 'interconnectedness', 'of', 'physical', 'devices', ',', 'such', 'as', 'appliances', 'and', 'vehicles', ',', 'that', 'are', 'embedded', 'with', 'software', ',', 'sensors', ',', 'and', 'connectivity', 'which', 'enables', 'these', 'objects', 'to', 'connect', 'and', 'exchange', 'data', '.', 'This', 'technology', 'allows', 'for', 'the', 'collection', 'and', 'sharing', 'of', 'data', 'from', 'a', 'vast', 'network', 'of', 'devices', ',', 'creating', 'opportunities', 'for', 'more', 'efficient', 'and', 'automated', 'systems', '.', 'Internet', 'of', 'Things', '(', 'IoT', ')', 'is', 'the', 'networking', 'of', 'physical', 'objects', 'that', 'contain', 'electronics', 'embedded', 'within', 'their', 'architecture', 'in', 'order', 'to', 'communicate', 'and', 'sense', 'interactions', 'amongst', 'each', 'other', 'or', 'with', 'respect', 'to', 'the', 'external', 'environment', '.', 'In', 'the', 'upcoming', 'years', ',', 'IoT', '-', 'based', 'technology', 'will', 'offer', 'advanced', 'levels', 'of', 'services', 'and', 'practically', 'change', 'the', 'way', 'people', 'lead', 'their', 'daily', 'lives', '.', 'Advancements', 'in', 'medicine', ',', 'power', ',', 'gene', 'therapies', ',', 'agriculture', ',', 'smart', 'cities', ',', 'and', 'smart', 'homes', 'are', 'just', 'a', 'few', 'of', 'the', 'categorical', 'examples', 'where', 'IoT', 'is', 'strongly', 'established', '.']\n",
            "\n",
            "Sentences:\n",
            "['IoT stands for Internet of Things.', 'It refers to the interconnectedness of physical devices, such as appliances and vehicles, that are embedded with software, sensors, and connectivity which enables these objects to connect and exchange data.', 'This technology allows for the collection and sharing of data from a vast network of devices, creating opportunities for more efficient and automated systems.', 'Internet of Things (IoT) is the networking of physical objects that contain electronics embedded within their architecture in order to communicate and sense interactions amongst each other or with respect to the external environment.', 'In the upcoming years, IoT-based technology will offer advanced levels of services and practically change the way people lead their daily lives.', 'Advancements in medicine, power, gene therapies, agriculture, smart cities, and smart homes are just a few of the categorical examples where IoT is strongly established.']\n"
          ]
        }
      ]
    },
    {
      "cell_type": "code",
      "source": [
        "doc[0]"
      ],
      "metadata": {
        "colab": {
          "base_uri": "https://localhost:8080/"
        },
        "id": "gLXlMtRul24f",
        "outputId": "d66c7034-2c06-45bc-9e4c-29d7c1685f2d"
      },
      "execution_count": null,
      "outputs": [
        {
          "output_type": "execute_result",
          "data": {
            "text/plain": [
              "IoT"
            ]
          },
          "metadata": {},
          "execution_count": 4
        }
      ]
    },
    {
      "cell_type": "code",
      "source": [
        "doc[3]"
      ],
      "metadata": {
        "colab": {
          "base_uri": "https://localhost:8080/"
        },
        "id": "3Y6IEfCwmFln",
        "outputId": "e4519608-6284-483a-9ddc-96709fa6d619"
      },
      "execution_count": null,
      "outputs": [
        {
          "output_type": "execute_result",
          "data": {
            "text/plain": [
              "Internet"
            ]
          },
          "metadata": {},
          "execution_count": 5
        }
      ]
    },
    {
      "cell_type": "code",
      "source": [
        "#extract hindi\n",
        "import spacy\n",
        "\n",
        "txt_hindi = \"इंटरनेट ऑफ थिंग्स एक प्रौद्योगिकी है जिसमें विभिन्न डिवाइस, वाहन, होम उपकरण आदि से संबंधित वस्तुओं में एक-दूसरे के साथ डेटा साझा किया जा सकता है। यह इन डिवाइसेज को संचार करने, जानकारी साझा करने और समान्य रूप से इंटरनेट के माध्यम से संपर्क स्थापित करने की क्षमता प्रदान करता है।\"\n",
        "nlp = spacy.blank(\"hi\")\n",
        "sentencizer = nlp.add_pipe(\"sentencizer\")\n",
        "doc = nlp(txt_hindi)\n",
        "for sent in doc.sents:\n",
        "    print(sent)"
      ],
      "metadata": {
        "colab": {
          "base_uri": "https://localhost:8080/"
        },
        "id": "DuXEIfjkYwT7",
        "outputId": "577f83e7-a9ce-4943-fe06-4496ad6f716e"
      },
      "execution_count": null,
      "outputs": [
        {
          "output_type": "stream",
          "name": "stdout",
          "text": [
            "इंटरनेट ऑफ थिंग्स एक प्रौद्योगिकी है जिसमें विभिन्न डिवाइस, वाहन, होम उपकरण आदि से संबंधित वस्तुओं में एक-दूसरे के साथ डेटा साझा किया जा सकता है।\n",
            "यह इन डिवाइसेज को संचार करने, जानकारी साझा करने और समान्य रूप से इंटरनेट के माध्यम से संपर्क स्थापित करने की क्षमता प्रदान करता है।\n"
          ]
        }
      ]
    },
    {
      "cell_type": "code",
      "source": [
        "# Entity explaining and styling using Spacy\n",
        "import spacy\n",
        "from spacy import displacy\n",
        "nlp = spacy.load(\"en_core_web_sm\")\n",
        "doc = nlp(text)\n",
        "entities = [(ent.text, ent.label_, spacy.explain(ent.label_)) for ent in doc.ents]\n",
        "print(\"\\nEntities:\")\n",
        "print(entities)\n",
        "print('\\n\\n')\n",
        "#styling\n",
        "displacy.render(doc, style = 'ent', jupyter = True)"
      ],
      "metadata": {
        "colab": {
          "base_uri": "https://localhost:8080/",
          "height": 386
        },
        "id": "enXQUPYxcLSt",
        "outputId": "ac9a7c32-b15a-4bfa-9530-7a96d7b13aa7"
      },
      "execution_count": null,
      "outputs": [
        {
          "output_type": "stream",
          "name": "stdout",
          "text": [
            "\n",
            "Entities:\n",
            "[('the upcoming years', 'DATE', 'Absolute or relative dates or periods'), ('IoT', 'ORG', 'Companies, agencies, institutions, etc.'), ('daily', 'DATE', 'Absolute or relative dates or periods'), ('IoT', 'ORG', 'Companies, agencies, institutions, etc.')]\n",
            "\n",
            "\n",
            "\n"
          ]
        },
        {
          "output_type": "display_data",
          "data": {
            "text/plain": [
              "<IPython.core.display.HTML object>"
            ],
            "text/html": [
              "<span class=\"tex2jax_ignore\"><div class=\"entities\" style=\"line-height: 2.5; direction: ltr\">IoT stands for Internet of Things. It refers to the interconnectedness of physical devices, such as appliances and vehicles, that are embedded with software, sensors, and connectivity which enables these objects to connect and exchange data. This technology allows for the collection and sharing of data from a vast network of devices, creating opportunities for more efficient and automated systems.Internet of Things (IoT) is the networking of physical objects that contain electronics embedded within their architecture in order to communicate and sense interactions amongst each other or with respect to the external environment. In \n",
              "<mark class=\"entity\" style=\"background: #bfe1d9; padding: 0.45em 0.6em; margin: 0 0.25em; line-height: 1; border-radius: 0.35em;\">\n",
              "    the upcoming years\n",
              "    <span style=\"font-size: 0.8em; font-weight: bold; line-height: 1; border-radius: 0.35em; vertical-align: middle; margin-left: 0.5rem\">DATE</span>\n",
              "</mark>\n",
              ", \n",
              "<mark class=\"entity\" style=\"background: #7aecec; padding: 0.45em 0.6em; margin: 0 0.25em; line-height: 1; border-radius: 0.35em;\">\n",
              "    IoT\n",
              "    <span style=\"font-size: 0.8em; font-weight: bold; line-height: 1; border-radius: 0.35em; vertical-align: middle; margin-left: 0.5rem\">ORG</span>\n",
              "</mark>\n",
              "-based technology will offer advanced levels of services and practically change the way people lead their \n",
              "<mark class=\"entity\" style=\"background: #bfe1d9; padding: 0.45em 0.6em; margin: 0 0.25em; line-height: 1; border-radius: 0.35em;\">\n",
              "    daily\n",
              "    <span style=\"font-size: 0.8em; font-weight: bold; line-height: 1; border-radius: 0.35em; vertical-align: middle; margin-left: 0.5rem\">DATE</span>\n",
              "</mark>\n",
              " lives. Advancements in medicine, power, gene therapies, agriculture, smart cities, and smart homes are just a few of the categorical examples where \n",
              "<mark class=\"entity\" style=\"background: #7aecec; padding: 0.45em 0.6em; margin: 0 0.25em; line-height: 1; border-radius: 0.35em;\">\n",
              "    IoT\n",
              "    <span style=\"font-size: 0.8em; font-weight: bold; line-height: 1; border-radius: 0.35em; vertical-align: middle; margin-left: 0.5rem\">ORG</span>\n",
              "</mark>\n",
              " is strongly established.</div></span>"
            ]
          },
          "metadata": {}
        }
      ]
    },
    {
      "cell_type": "code",
      "source": [
        "#extracting emails using like_email from a text\n",
        "txt_data = \"\"\"\n",
        "ABCD : mariyasaji999@gmail.com\n",
        "EFGH : mariyasaji17@gmail.com\n",
        "IJKL : mariyasaji1707@gmail.com\n",
        "MNOP : mariyasaji20@gmail.com\n",
        "QRST : mariyasaji17@pg.cusat.ac.in\n",
        "\"\"\"\n",
        "\n",
        "with open(\"txt_data.txt\", \"w\") as file:\n",
        "    file.write(txt_data)\n"
      ],
      "metadata": {
        "id": "loeEQH7qhLWA"
      },
      "execution_count": null,
      "outputs": []
    },
    {
      "cell_type": "code",
      "source": [
        "with open(\"txt_data.txt\", \"r\") as file:\n",
        "    txt = file.read()\n",
        "\n",
        "import spacy\n",
        "nlp = spacy.blank(\"en\")\n",
        "doc = nlp(txt)\n",
        "emails = [entity.text for entity in doc if entity.like_email]\n",
        "\n",
        "print(\"Extracted Email Addresses:\")\n",
        "for email in emails:\n",
        "    print(email)\n"
      ],
      "metadata": {
        "colab": {
          "base_uri": "https://localhost:8080/"
        },
        "id": "93K4HKq8hLJM",
        "outputId": "a5600dd6-7db8-4ebc-b95f-45cee44b53a0"
      },
      "execution_count": null,
      "outputs": [
        {
          "output_type": "stream",
          "name": "stdout",
          "text": [
            "Extracted Email Addresses:\n",
            "mariyasaji999@gmail.com\n",
            "mariyasaji17@gmail.com\n",
            "mariyasaji1707@gmail.com\n",
            "mariyasaji20@gmail.com\n",
            "mariyasaji17@pg.cusat.ac.in\n"
          ]
        }
      ]
    },
    {
      "cell_type": "code",
      "source": [
        "#getting the pipelines\n",
        "import spacy\n",
        "\n",
        "nlp = spacy.load(\"en_core_web_sm\")\n",
        "\n",
        "for pipe_name in nlp.pipe_names:\n",
        "    print(pipe_name)\n"
      ],
      "metadata": {
        "colab": {
          "base_uri": "https://localhost:8080/"
        },
        "id": "eljphy0elUNC",
        "outputId": "f0019828-6b91-46a1-8007-3c64d4ddb546"
      },
      "execution_count": null,
      "outputs": [
        {
          "output_type": "stream",
          "name": "stdout",
          "text": [
            "tok2vec\n",
            "tagger\n",
            "parser\n",
            "attribute_ruler\n",
            "lemmatizer\n",
            "ner\n"
          ]
        }
      ]
    },
    {
      "cell_type": "markdown",
      "source": [
        "1. Write code for stemming and lemmatization (any reference).\n",
        "2. create customised lemmatization of any two words.\n",
        "3. create part of speech model.\n",
        "4. develop bag of words model by using train_test and using pipeline also"
      ],
      "metadata": {
        "id": "-ilCrQLcTkFx"
      }
    },
    {
      "cell_type": "code",
      "source": [
        "#stemming\n",
        "from nltk.stem import PorterStemmer\n",
        "stemmer = PorterStemmer()\n",
        "words = word_tokenize(text)\n",
        "for word in words:\n",
        "  print(word, \"|\", stemmer.stem(word))"
      ],
      "metadata": {
        "colab": {
          "base_uri": "https://localhost:8080/"
        },
        "id": "fyRjyg64Tii0",
        "outputId": "5a049d0d-0114-4cbe-8d00-332d51c48b3b"
      },
      "execution_count": null,
      "outputs": [
        {
          "output_type": "stream",
          "name": "stdout",
          "text": [
            "IoT | iot\n",
            "stands | stand\n",
            "for | for\n",
            "Internet | internet\n",
            "of | of\n",
            "Things | thing\n",
            ". | .\n",
            "It | it\n",
            "refers | refer\n",
            "to | to\n",
            "the | the\n",
            "interconnectedness | interconnected\n",
            "of | of\n",
            "physical | physic\n",
            "devices | devic\n",
            ", | ,\n",
            "such | such\n",
            "as | as\n",
            "appliances | applianc\n",
            "and | and\n",
            "vehicles | vehicl\n",
            ", | ,\n",
            "that | that\n",
            "are | are\n",
            "embedded | embed\n",
            "with | with\n",
            "software | softwar\n",
            ", | ,\n",
            "sensors | sensor\n",
            ", | ,\n",
            "and | and\n",
            "connectivity | connect\n",
            "which | which\n",
            "enables | enabl\n",
            "these | these\n",
            "objects | object\n",
            "to | to\n",
            "connect | connect\n",
            "and | and\n",
            "exchange | exchang\n",
            "data | data\n",
            ". | .\n",
            "This | thi\n",
            "technology | technolog\n",
            "allows | allow\n",
            "for | for\n",
            "the | the\n",
            "collection | collect\n",
            "and | and\n",
            "sharing | share\n",
            "of | of\n",
            "data | data\n",
            "from | from\n",
            "a | a\n",
            "vast | vast\n",
            "network | network\n",
            "of | of\n",
            "devices | devic\n",
            ", | ,\n",
            "creating | creat\n",
            "opportunities | opportun\n",
            "for | for\n",
            "more | more\n",
            "efficient | effici\n",
            "and | and\n",
            "automated | autom\n",
            "systems.Internet | systems.internet\n",
            "of | of\n",
            "Things | thing\n",
            "( | (\n",
            "IoT | iot\n",
            ") | )\n",
            "is | is\n",
            "the | the\n",
            "networking | network\n",
            "of | of\n",
            "physical | physic\n",
            "objects | object\n",
            "that | that\n",
            "contain | contain\n",
            "electronics | electron\n",
            "embedded | embed\n",
            "within | within\n",
            "their | their\n",
            "architecture | architectur\n",
            "in | in\n",
            "order | order\n",
            "to | to\n",
            "communicate | commun\n",
            "and | and\n",
            "sense | sens\n",
            "interactions | interact\n",
            "amongst | amongst\n",
            "each | each\n",
            "other | other\n",
            "or | or\n",
            "with | with\n",
            "respect | respect\n",
            "to | to\n",
            "the | the\n",
            "external | extern\n",
            "environment | environ\n",
            ". | .\n",
            "In | in\n",
            "the | the\n",
            "upcoming | upcom\n",
            "years | year\n",
            ", | ,\n",
            "IoT-based | iot-bas\n",
            "technology | technolog\n",
            "will | will\n",
            "offer | offer\n",
            "advanced | advanc\n",
            "levels | level\n",
            "of | of\n",
            "services | servic\n",
            "and | and\n",
            "practically | practic\n",
            "change | chang\n",
            "the | the\n",
            "way | way\n",
            "people | peopl\n",
            "lead | lead\n",
            "their | their\n",
            "daily | daili\n",
            "lives | live\n",
            ". | .\n",
            "Advancements | advanc\n",
            "in | in\n",
            "medicine | medicin\n",
            ", | ,\n",
            "power | power\n",
            ", | ,\n",
            "gene | gene\n",
            "therapies | therapi\n",
            ", | ,\n",
            "agriculture | agricultur\n",
            ", | ,\n",
            "smart | smart\n",
            "cities | citi\n",
            ", | ,\n",
            "and | and\n",
            "smart | smart\n",
            "homes | home\n",
            "are | are\n",
            "just | just\n",
            "a | a\n",
            "few | few\n",
            "of | of\n",
            "the | the\n",
            "categorical | categor\n",
            "examples | exampl\n",
            "where | where\n",
            "IoT | iot\n",
            "is | is\n",
            "strongly | strongli\n",
            "established | establish\n",
            ". | .\n"
          ]
        }
      ]
    },
    {
      "cell_type": "code",
      "source": [
        "#lemmatization\n",
        "nlp = spacy.load(\"en_core_web_sm\")\n",
        "doc = nlp(text)\n",
        "for token in doc:\n",
        "  print(token, '|', token.lemma_)"
      ],
      "metadata": {
        "colab": {
          "base_uri": "https://localhost:8080/"
        },
        "id": "m8rzD8x6XLCI",
        "outputId": "1af52576-9547-4d25-8308-b9995b7e033c"
      },
      "execution_count": null,
      "outputs": [
        {
          "output_type": "stream",
          "name": "stdout",
          "text": [
            "IoT | iot\n",
            "stands | stand\n",
            "for | for\n",
            "Internet | internet\n",
            "of | of\n",
            "Things | Things\n",
            ". | .\n",
            "It | it\n",
            "refers | refer\n",
            "to | to\n",
            "the | the\n",
            "interconnectedness | interconnectedness\n",
            "of | of\n",
            "physical | physical\n",
            "devices | device\n",
            ", | ,\n",
            "such | such\n",
            "as | as\n",
            "appliances | appliance\n",
            "and | and\n",
            "vehicles | vehicle\n",
            ", | ,\n",
            "that | that\n",
            "are | be\n",
            "embedded | embed\n",
            "with | with\n",
            "software | software\n",
            ", | ,\n",
            "sensors | sensor\n",
            ", | ,\n",
            "and | and\n",
            "connectivity | connectivity\n",
            "which | which\n",
            "enables | enable\n",
            "these | these\n",
            "objects | object\n",
            "to | to\n",
            "connect | connect\n",
            "and | and\n",
            "exchange | exchange\n",
            "data | datum\n",
            ". | .\n",
            "This | this\n",
            "technology | technology\n",
            "allows | allow\n",
            "for | for\n",
            "the | the\n",
            "collection | collection\n",
            "and | and\n",
            "sharing | sharing\n",
            "of | of\n",
            "data | datum\n",
            "from | from\n",
            "a | a\n",
            "vast | vast\n",
            "network | network\n",
            "of | of\n",
            "devices | device\n",
            ", | ,\n",
            "creating | create\n",
            "opportunities | opportunity\n",
            "for | for\n",
            "more | more\n",
            "efficient | efficient\n",
            "and | and\n",
            "automated | automated\n",
            "systems | system\n",
            ". | .\n",
            "Internet | internet\n",
            "of | of\n",
            "Things | Things\n",
            "( | (\n",
            "IoT | IoT\n",
            ") | )\n",
            "is | be\n",
            "the | the\n",
            "networking | networking\n",
            "of | of\n",
            "physical | physical\n",
            "objects | object\n",
            "that | that\n",
            "contain | contain\n",
            "electronics | electronic\n",
            "embedded | embed\n",
            "within | within\n",
            "their | their\n",
            "architecture | architecture\n",
            "in | in\n",
            "order | order\n",
            "to | to\n",
            "communicate | communicate\n",
            "and | and\n",
            "sense | sense\n",
            "interactions | interaction\n",
            "amongst | amongst\n",
            "each | each\n",
            "other | other\n",
            "or | or\n",
            "with | with\n",
            "respect | respect\n",
            "to | to\n",
            "the | the\n",
            "external | external\n",
            "environment | environment\n",
            ". | .\n",
            "In | in\n",
            "the | the\n",
            "upcoming | upcoming\n",
            "years | year\n",
            ", | ,\n",
            "IoT | iot\n",
            "- | -\n",
            "based | base\n",
            "technology | technology\n",
            "will | will\n",
            "offer | offer\n",
            "advanced | advanced\n",
            "levels | level\n",
            "of | of\n",
            "services | service\n",
            "and | and\n",
            "practically | practically\n",
            "change | change\n",
            "the | the\n",
            "way | way\n",
            "people | people\n",
            "lead | lead\n",
            "their | their\n",
            "daily | daily\n",
            "lives | life\n",
            ". | .\n",
            "Advancements | advancement\n",
            "in | in\n",
            "medicine | medicine\n",
            ", | ,\n",
            "power | power\n",
            ", | ,\n",
            "gene | gene\n",
            "therapies | therapy\n",
            ", | ,\n",
            "agriculture | agriculture\n",
            ", | ,\n",
            "smart | smart\n",
            "cities | city\n",
            ", | ,\n",
            "and | and\n",
            "smart | smart\n",
            "homes | home\n",
            "are | be\n",
            "just | just\n",
            "a | a\n",
            "few | few\n",
            "of | of\n",
            "the | the\n",
            "categorical | categorical\n",
            "examples | example\n",
            "where | where\n",
            "IoT | iot\n",
            "is | be\n",
            "strongly | strongly\n",
            "established | establish\n",
            ". | .\n"
          ]
        }
      ]
    },
    {
      "cell_type": "code",
      "source": [
        "#customized lemmatization\n",
        "attrul = nlp.get_pipe('attribute_ruler')\n",
        "attrul.add([[{'TEXT': 'ss'}], [{'TEXT': 'scrsht'}]], {'LEMMA': 'Screenshot'})\n",
        "doc = nlp(\"please send me the ss; that scrsht taken by you\")\n",
        "for token in doc:\n",
        "  print(token.text, \"|\", token.lemma_)"
      ],
      "metadata": {
        "colab": {
          "base_uri": "https://localhost:8080/"
        },
        "id": "4SKi6PIrXmKq",
        "outputId": "50e29f85-e026-4394-d8db-ce91d4d8dedf"
      },
      "execution_count": null,
      "outputs": [
        {
          "output_type": "stream",
          "name": "stdout",
          "text": [
            "please | please\n",
            "send | send\n",
            "me | I\n",
            "the | the\n",
            "ss | Screenshot\n",
            "; | ;\n",
            "that | that\n",
            "scrsht | Screenshot\n",
            "taken | take\n",
            "by | by\n",
            "you | you\n"
          ]
        }
      ]
    },
    {
      "cell_type": "code",
      "source": [
        "#part of speech\n",
        "doc = nlp(text)\n",
        "for token in doc:\n",
        "  print(token, '|', token.pos_)"
      ],
      "metadata": {
        "colab": {
          "base_uri": "https://localhost:8080/"
        },
        "id": "V96Q3BZqZBMI",
        "outputId": "e726c790-cc6b-4dbd-963f-b36462a8545b"
      },
      "execution_count": null,
      "outputs": [
        {
          "output_type": "stream",
          "name": "stdout",
          "text": [
            "IoT | ADJ\n",
            "stands | VERB\n",
            "for | ADP\n",
            "Internet | NOUN\n",
            "of | ADP\n",
            "Things | PROPN\n",
            ". | PUNCT\n",
            "It | PRON\n",
            "refers | VERB\n",
            "to | ADP\n",
            "the | DET\n",
            "interconnectedness | NOUN\n",
            "of | ADP\n",
            "physical | ADJ\n",
            "devices | NOUN\n",
            ", | PUNCT\n",
            "such | ADJ\n",
            "as | ADP\n",
            "appliances | NOUN\n",
            "and | CCONJ\n",
            "vehicles | NOUN\n",
            ", | PUNCT\n",
            "that | PRON\n",
            "are | AUX\n",
            "embedded | VERB\n",
            "with | ADP\n",
            "software | NOUN\n",
            ", | PUNCT\n",
            "sensors | NOUN\n",
            ", | PUNCT\n",
            "and | CCONJ\n",
            "connectivity | NOUN\n",
            "which | PRON\n",
            "enables | VERB\n",
            "these | DET\n",
            "objects | NOUN\n",
            "to | PART\n",
            "connect | VERB\n",
            "and | CCONJ\n",
            "exchange | NOUN\n",
            "data | NOUN\n",
            ". | PUNCT\n",
            "This | DET\n",
            "technology | NOUN\n",
            "allows | VERB\n",
            "for | ADP\n",
            "the | DET\n",
            "collection | NOUN\n",
            "and | CCONJ\n",
            "sharing | NOUN\n",
            "of | ADP\n",
            "data | NOUN\n",
            "from | ADP\n",
            "a | DET\n",
            "vast | ADJ\n",
            "network | NOUN\n",
            "of | ADP\n",
            "devices | NOUN\n",
            ", | PUNCT\n",
            "creating | VERB\n",
            "opportunities | NOUN\n",
            "for | ADP\n",
            "more | ADV\n",
            "efficient | ADJ\n",
            "and | CCONJ\n",
            "automated | ADJ\n",
            "systems | NOUN\n",
            ". | PUNCT\n",
            "Internet | NOUN\n",
            "of | ADP\n",
            "Things | PROPN\n",
            "( | PUNCT\n",
            "IoT | PROPN\n",
            ") | PUNCT\n",
            "is | AUX\n",
            "the | DET\n",
            "networking | NOUN\n",
            "of | ADP\n",
            "physical | ADJ\n",
            "objects | NOUN\n",
            "that | PRON\n",
            "contain | VERB\n",
            "electronics | NOUN\n",
            "embedded | VERB\n",
            "within | ADP\n",
            "their | PRON\n",
            "architecture | NOUN\n",
            "in | ADP\n",
            "order | NOUN\n",
            "to | PART\n",
            "communicate | VERB\n",
            "and | CCONJ\n",
            "sense | VERB\n",
            "interactions | NOUN\n",
            "amongst | ADP\n",
            "each | DET\n",
            "other | ADJ\n",
            "or | CCONJ\n",
            "with | ADP\n",
            "respect | NOUN\n",
            "to | ADP\n",
            "the | DET\n",
            "external | ADJ\n",
            "environment | NOUN\n",
            ". | PUNCT\n",
            "In | ADP\n",
            "the | DET\n",
            "upcoming | ADJ\n",
            "years | NOUN\n",
            ", | PUNCT\n",
            "IoT | ADV\n",
            "- | PUNCT\n",
            "based | VERB\n",
            "technology | NOUN\n",
            "will | AUX\n",
            "offer | VERB\n",
            "advanced | ADJ\n",
            "levels | NOUN\n",
            "of | ADP\n",
            "services | NOUN\n",
            "and | CCONJ\n",
            "practically | ADV\n",
            "change | VERB\n",
            "the | DET\n",
            "way | NOUN\n",
            "people | NOUN\n",
            "lead | VERB\n",
            "their | PRON\n",
            "daily | ADJ\n",
            "lives | NOUN\n",
            ". | PUNCT\n",
            "Advancements | NOUN\n",
            "in | ADP\n",
            "medicine | NOUN\n",
            ", | PUNCT\n",
            "power | NOUN\n",
            ", | PUNCT\n",
            "gene | NOUN\n",
            "therapies | NOUN\n",
            ", | PUNCT\n",
            "agriculture | NOUN\n",
            ", | PUNCT\n",
            "smart | ADJ\n",
            "cities | NOUN\n",
            ", | PUNCT\n",
            "and | CCONJ\n",
            "smart | ADJ\n",
            "homes | NOUN\n",
            "are | AUX\n",
            "just | ADV\n",
            "a | DET\n",
            "few | ADJ\n",
            "of | ADP\n",
            "the | DET\n",
            "categorical | ADJ\n",
            "examples | NOUN\n",
            "where | SCONJ\n",
            "IoT | ADJ\n",
            "is | AUX\n",
            "strongly | ADV\n",
            "established | VERB\n",
            ". | PUNCT\n"
          ]
        }
      ]
    },
    {
      "cell_type": "code",
      "source": [
        "#bag of words model using train_test\n",
        "import pandas as pd\n",
        "import numpy as np\n",
        "df = pd.read_csv(\"/content/Book_1.csv\", encoding='latin1')\n",
        "df"
      ],
      "metadata": {
        "id": "MP84MPe_ZyuT",
        "colab": {
          "base_uri": "https://localhost:8080/",
          "height": 363
        },
        "outputId": "87afa61a-b502-4a48-9bff-215b5fcf0dab"
      },
      "execution_count": null,
      "outputs": [
        {
          "output_type": "execute_result",
          "data": {
            "text/plain": [
              "  category                                                msg  value\n",
              "0     spam  DALL-E 3 is available via the Bing app for fre...      1\n",
              "1     ham   November at TinkerSpace was a spectacular show...      0\n",
              "2    spam   Recruiter from Amazon India Software Dev Centr...      1\n",
              "3     spam  Do you think it's impossible to get a job with...      1\n",
              "4     ham   Once completed, you can start using all of Git...      0\n",
              "5     ham   DISCLAIMER:This email may contain privileged i...      0\n",
              "6     ham   Welcome to Amazon Web Services. Thank you for ...      0\n",
              "7     ham   Good morning. It's Rohan with your latest Care...      0\n",
              "8     ham   If you did not grant access, you should check ...      0\n",
              "9     spam  Recruiter from Bosch... Group is actively hiri...      1"
            ],
            "text/html": [
              "\n",
              "  <div id=\"df-bb753e5b-7a11-4312-9a0d-3321fac97663\" class=\"colab-df-container\">\n",
              "    <div>\n",
              "<style scoped>\n",
              "    .dataframe tbody tr th:only-of-type {\n",
              "        vertical-align: middle;\n",
              "    }\n",
              "\n",
              "    .dataframe tbody tr th {\n",
              "        vertical-align: top;\n",
              "    }\n",
              "\n",
              "    .dataframe thead th {\n",
              "        text-align: right;\n",
              "    }\n",
              "</style>\n",
              "<table border=\"1\" class=\"dataframe\">\n",
              "  <thead>\n",
              "    <tr style=\"text-align: right;\">\n",
              "      <th></th>\n",
              "      <th>category</th>\n",
              "      <th>msg</th>\n",
              "      <th>value</th>\n",
              "    </tr>\n",
              "  </thead>\n",
              "  <tbody>\n",
              "    <tr>\n",
              "      <th>0</th>\n",
              "      <td>spam</td>\n",
              "      <td>DALL-E 3 is available via the Bing app for fre...</td>\n",
              "      <td>1</td>\n",
              "    </tr>\n",
              "    <tr>\n",
              "      <th>1</th>\n",
              "      <td>ham</td>\n",
              "      <td>November at TinkerSpace was a spectacular show...</td>\n",
              "      <td>0</td>\n",
              "    </tr>\n",
              "    <tr>\n",
              "      <th>2</th>\n",
              "      <td>spam</td>\n",
              "      <td>Recruiter from Amazon India Software Dev Centr...</td>\n",
              "      <td>1</td>\n",
              "    </tr>\n",
              "    <tr>\n",
              "      <th>3</th>\n",
              "      <td>spam</td>\n",
              "      <td>Do you think it's impossible to get a job with...</td>\n",
              "      <td>1</td>\n",
              "    </tr>\n",
              "    <tr>\n",
              "      <th>4</th>\n",
              "      <td>ham</td>\n",
              "      <td>Once completed, you can start using all of Git...</td>\n",
              "      <td>0</td>\n",
              "    </tr>\n",
              "    <tr>\n",
              "      <th>5</th>\n",
              "      <td>ham</td>\n",
              "      <td>DISCLAIMER:This email may contain privileged i...</td>\n",
              "      <td>0</td>\n",
              "    </tr>\n",
              "    <tr>\n",
              "      <th>6</th>\n",
              "      <td>ham</td>\n",
              "      <td>Welcome to Amazon Web Services. Thank you for ...</td>\n",
              "      <td>0</td>\n",
              "    </tr>\n",
              "    <tr>\n",
              "      <th>7</th>\n",
              "      <td>ham</td>\n",
              "      <td>Good morning. It's Rohan with your latest Care...</td>\n",
              "      <td>0</td>\n",
              "    </tr>\n",
              "    <tr>\n",
              "      <th>8</th>\n",
              "      <td>ham</td>\n",
              "      <td>If you did not grant access, you should check ...</td>\n",
              "      <td>0</td>\n",
              "    </tr>\n",
              "    <tr>\n",
              "      <th>9</th>\n",
              "      <td>spam</td>\n",
              "      <td>Recruiter from Bosch... Group is actively hiri...</td>\n",
              "      <td>1</td>\n",
              "    </tr>\n",
              "  </tbody>\n",
              "</table>\n",
              "</div>\n",
              "    <div class=\"colab-df-buttons\">\n",
              "\n",
              "  <div class=\"colab-df-container\">\n",
              "    <button class=\"colab-df-convert\" onclick=\"convertToInteractive('df-bb753e5b-7a11-4312-9a0d-3321fac97663')\"\n",
              "            title=\"Convert this dataframe to an interactive table.\"\n",
              "            style=\"display:none;\">\n",
              "\n",
              "  <svg xmlns=\"http://www.w3.org/2000/svg\" height=\"24px\" viewBox=\"0 -960 960 960\">\n",
              "    <path d=\"M120-120v-720h720v720H120Zm60-500h600v-160H180v160Zm220 220h160v-160H400v160Zm0 220h160v-160H400v160ZM180-400h160v-160H180v160Zm440 0h160v-160H620v160ZM180-180h160v-160H180v160Zm440 0h160v-160H620v160Z\"/>\n",
              "  </svg>\n",
              "    </button>\n",
              "\n",
              "  <style>\n",
              "    .colab-df-container {\n",
              "      display:flex;\n",
              "      gap: 12px;\n",
              "    }\n",
              "\n",
              "    .colab-df-convert {\n",
              "      background-color: #E8F0FE;\n",
              "      border: none;\n",
              "      border-radius: 50%;\n",
              "      cursor: pointer;\n",
              "      display: none;\n",
              "      fill: #1967D2;\n",
              "      height: 32px;\n",
              "      padding: 0 0 0 0;\n",
              "      width: 32px;\n",
              "    }\n",
              "\n",
              "    .colab-df-convert:hover {\n",
              "      background-color: #E2EBFA;\n",
              "      box-shadow: 0px 1px 2px rgba(60, 64, 67, 0.3), 0px 1px 3px 1px rgba(60, 64, 67, 0.15);\n",
              "      fill: #174EA6;\n",
              "    }\n",
              "\n",
              "    .colab-df-buttons div {\n",
              "      margin-bottom: 4px;\n",
              "    }\n",
              "\n",
              "    [theme=dark] .colab-df-convert {\n",
              "      background-color: #3B4455;\n",
              "      fill: #D2E3FC;\n",
              "    }\n",
              "\n",
              "    [theme=dark] .colab-df-convert:hover {\n",
              "      background-color: #434B5C;\n",
              "      box-shadow: 0px 1px 3px 1px rgba(0, 0, 0, 0.15);\n",
              "      filter: drop-shadow(0px 1px 2px rgba(0, 0, 0, 0.3));\n",
              "      fill: #FFFFFF;\n",
              "    }\n",
              "  </style>\n",
              "\n",
              "    <script>\n",
              "      const buttonEl =\n",
              "        document.querySelector('#df-bb753e5b-7a11-4312-9a0d-3321fac97663 button.colab-df-convert');\n",
              "      buttonEl.style.display =\n",
              "        google.colab.kernel.accessAllowed ? 'block' : 'none';\n",
              "\n",
              "      async function convertToInteractive(key) {\n",
              "        const element = document.querySelector('#df-bb753e5b-7a11-4312-9a0d-3321fac97663');\n",
              "        const dataTable =\n",
              "          await google.colab.kernel.invokeFunction('convertToInteractive',\n",
              "                                                    [key], {});\n",
              "        if (!dataTable) return;\n",
              "\n",
              "        const docLinkHtml = 'Like what you see? Visit the ' +\n",
              "          '<a target=\"_blank\" href=https://colab.research.google.com/notebooks/data_table.ipynb>data table notebook</a>'\n",
              "          + ' to learn more about interactive tables.';\n",
              "        element.innerHTML = '';\n",
              "        dataTable['output_type'] = 'display_data';\n",
              "        await google.colab.output.renderOutput(dataTable, element);\n",
              "        const docLink = document.createElement('div');\n",
              "        docLink.innerHTML = docLinkHtml;\n",
              "        element.appendChild(docLink);\n",
              "      }\n",
              "    </script>\n",
              "  </div>\n",
              "\n",
              "\n",
              "<div id=\"df-f64394a1-6946-4ccc-981a-a6db310d0e0c\">\n",
              "  <button class=\"colab-df-quickchart\" onclick=\"quickchart('df-f64394a1-6946-4ccc-981a-a6db310d0e0c')\"\n",
              "            title=\"Suggest charts\"\n",
              "            style=\"display:none;\">\n",
              "\n",
              "<svg xmlns=\"http://www.w3.org/2000/svg\" height=\"24px\"viewBox=\"0 0 24 24\"\n",
              "     width=\"24px\">\n",
              "    <g>\n",
              "        <path d=\"M19 3H5c-1.1 0-2 .9-2 2v14c0 1.1.9 2 2 2h14c1.1 0 2-.9 2-2V5c0-1.1-.9-2-2-2zM9 17H7v-7h2v7zm4 0h-2V7h2v10zm4 0h-2v-4h2v4z\"/>\n",
              "    </g>\n",
              "</svg>\n",
              "  </button>\n",
              "\n",
              "<style>\n",
              "  .colab-df-quickchart {\n",
              "      --bg-color: #E8F0FE;\n",
              "      --fill-color: #1967D2;\n",
              "      --hover-bg-color: #E2EBFA;\n",
              "      --hover-fill-color: #174EA6;\n",
              "      --disabled-fill-color: #AAA;\n",
              "      --disabled-bg-color: #DDD;\n",
              "  }\n",
              "\n",
              "  [theme=dark] .colab-df-quickchart {\n",
              "      --bg-color: #3B4455;\n",
              "      --fill-color: #D2E3FC;\n",
              "      --hover-bg-color: #434B5C;\n",
              "      --hover-fill-color: #FFFFFF;\n",
              "      --disabled-bg-color: #3B4455;\n",
              "      --disabled-fill-color: #666;\n",
              "  }\n",
              "\n",
              "  .colab-df-quickchart {\n",
              "    background-color: var(--bg-color);\n",
              "    border: none;\n",
              "    border-radius: 50%;\n",
              "    cursor: pointer;\n",
              "    display: none;\n",
              "    fill: var(--fill-color);\n",
              "    height: 32px;\n",
              "    padding: 0;\n",
              "    width: 32px;\n",
              "  }\n",
              "\n",
              "  .colab-df-quickchart:hover {\n",
              "    background-color: var(--hover-bg-color);\n",
              "    box-shadow: 0 1px 2px rgba(60, 64, 67, 0.3), 0 1px 3px 1px rgba(60, 64, 67, 0.15);\n",
              "    fill: var(--button-hover-fill-color);\n",
              "  }\n",
              "\n",
              "  .colab-df-quickchart-complete:disabled,\n",
              "  .colab-df-quickchart-complete:disabled:hover {\n",
              "    background-color: var(--disabled-bg-color);\n",
              "    fill: var(--disabled-fill-color);\n",
              "    box-shadow: none;\n",
              "  }\n",
              "\n",
              "  .colab-df-spinner {\n",
              "    border: 2px solid var(--fill-color);\n",
              "    border-color: transparent;\n",
              "    border-bottom-color: var(--fill-color);\n",
              "    animation:\n",
              "      spin 1s steps(1) infinite;\n",
              "  }\n",
              "\n",
              "  @keyframes spin {\n",
              "    0% {\n",
              "      border-color: transparent;\n",
              "      border-bottom-color: var(--fill-color);\n",
              "      border-left-color: var(--fill-color);\n",
              "    }\n",
              "    20% {\n",
              "      border-color: transparent;\n",
              "      border-left-color: var(--fill-color);\n",
              "      border-top-color: var(--fill-color);\n",
              "    }\n",
              "    30% {\n",
              "      border-color: transparent;\n",
              "      border-left-color: var(--fill-color);\n",
              "      border-top-color: var(--fill-color);\n",
              "      border-right-color: var(--fill-color);\n",
              "    }\n",
              "    40% {\n",
              "      border-color: transparent;\n",
              "      border-right-color: var(--fill-color);\n",
              "      border-top-color: var(--fill-color);\n",
              "    }\n",
              "    60% {\n",
              "      border-color: transparent;\n",
              "      border-right-color: var(--fill-color);\n",
              "    }\n",
              "    80% {\n",
              "      border-color: transparent;\n",
              "      border-right-color: var(--fill-color);\n",
              "      border-bottom-color: var(--fill-color);\n",
              "    }\n",
              "    90% {\n",
              "      border-color: transparent;\n",
              "      border-bottom-color: var(--fill-color);\n",
              "    }\n",
              "  }\n",
              "</style>\n",
              "\n",
              "  <script>\n",
              "    async function quickchart(key) {\n",
              "      const quickchartButtonEl =\n",
              "        document.querySelector('#' + key + ' button');\n",
              "      quickchartButtonEl.disabled = true;  // To prevent multiple clicks.\n",
              "      quickchartButtonEl.classList.add('colab-df-spinner');\n",
              "      try {\n",
              "        const charts = await google.colab.kernel.invokeFunction(\n",
              "            'suggestCharts', [key], {});\n",
              "      } catch (error) {\n",
              "        console.error('Error during call to suggestCharts:', error);\n",
              "      }\n",
              "      quickchartButtonEl.classList.remove('colab-df-spinner');\n",
              "      quickchartButtonEl.classList.add('colab-df-quickchart-complete');\n",
              "    }\n",
              "    (() => {\n",
              "      let quickchartButtonEl =\n",
              "        document.querySelector('#df-f64394a1-6946-4ccc-981a-a6db310d0e0c button');\n",
              "      quickchartButtonEl.style.display =\n",
              "        google.colab.kernel.accessAllowed ? 'block' : 'none';\n",
              "    })();\n",
              "  </script>\n",
              "</div>\n",
              "\n",
              "  <div id=\"id_039d03d7-6a1f-441f-83c7-373ca37c3198\">\n",
              "    <style>\n",
              "      .colab-df-generate {\n",
              "        background-color: #E8F0FE;\n",
              "        border: none;\n",
              "        border-radius: 50%;\n",
              "        cursor: pointer;\n",
              "        display: none;\n",
              "        fill: #1967D2;\n",
              "        height: 32px;\n",
              "        padding: 0 0 0 0;\n",
              "        width: 32px;\n",
              "      }\n",
              "\n",
              "      .colab-df-generate:hover {\n",
              "        background-color: #E2EBFA;\n",
              "        box-shadow: 0px 1px 2px rgba(60, 64, 67, 0.3), 0px 1px 3px 1px rgba(60, 64, 67, 0.15);\n",
              "        fill: #174EA6;\n",
              "      }\n",
              "\n",
              "      [theme=dark] .colab-df-generate {\n",
              "        background-color: #3B4455;\n",
              "        fill: #D2E3FC;\n",
              "      }\n",
              "\n",
              "      [theme=dark] .colab-df-generate:hover {\n",
              "        background-color: #434B5C;\n",
              "        box-shadow: 0px 1px 3px 1px rgba(0, 0, 0, 0.15);\n",
              "        filter: drop-shadow(0px 1px 2px rgba(0, 0, 0, 0.3));\n",
              "        fill: #FFFFFF;\n",
              "      }\n",
              "    </style>\n",
              "    <button class=\"colab-df-generate\" onclick=\"generateWithVariable('df')\"\n",
              "            title=\"Generate code using this dataframe.\"\n",
              "            style=\"display:none;\">\n",
              "\n",
              "  <svg xmlns=\"http://www.w3.org/2000/svg\" height=\"24px\"viewBox=\"0 0 24 24\"\n",
              "       width=\"24px\">\n",
              "    <path d=\"M7,19H8.4L18.45,9,17,7.55,7,17.6ZM5,21V16.75L18.45,3.32a2,2,0,0,1,2.83,0l1.4,1.43a1.91,1.91,0,0,1,.58,1.4,1.91,1.91,0,0,1-.58,1.4L9.25,21ZM18.45,9,17,7.55Zm-12,3A5.31,5.31,0,0,0,4.9,8.1,5.31,5.31,0,0,0,1,6.5,5.31,5.31,0,0,0,4.9,4.9,5.31,5.31,0,0,0,6.5,1,5.31,5.31,0,0,0,8.1,4.9,5.31,5.31,0,0,0,12,6.5,5.46,5.46,0,0,0,6.5,12Z\"/>\n",
              "  </svg>\n",
              "    </button>\n",
              "    <script>\n",
              "      (() => {\n",
              "      const buttonEl =\n",
              "        document.querySelector('#id_039d03d7-6a1f-441f-83c7-373ca37c3198 button.colab-df-generate');\n",
              "      buttonEl.style.display =\n",
              "        google.colab.kernel.accessAllowed ? 'block' : 'none';\n",
              "\n",
              "      buttonEl.onclick = () => {\n",
              "        google.colab.notebook.generateWithVariable('df');\n",
              "      }\n",
              "      })();\n",
              "    </script>\n",
              "  </div>\n",
              "\n",
              "    </div>\n",
              "  </div>\n"
            ]
          },
          "metadata": {},
          "execution_count": 16
        }
      ]
    },
    {
      "cell_type": "code",
      "source": [
        "df.category.value_counts()"
      ],
      "metadata": {
        "colab": {
          "base_uri": "https://localhost:8080/"
        },
        "id": "pMF4fPp_b_ul",
        "outputId": "f79f113c-be32-42e2-fb8a-259b773087fb"
      },
      "execution_count": null,
      "outputs": [
        {
          "output_type": "execute_result",
          "data": {
            "text/plain": [
              "ham      6\n",
              "spam     3\n",
              "spam     1\n",
              "Name: category, dtype: int64"
            ]
          },
          "metadata": {},
          "execution_count": 17
        }
      ]
    },
    {
      "cell_type": "code",
      "source": [
        "from sklearn.model_selection import train_test_split\n",
        "x_train, x_test, y_train, y_test = train_test_split(df.msg, df.value, test_size = 0.2)\n"
      ],
      "metadata": {
        "id": "t8wxD-9vcNS6"
      },
      "execution_count": null,
      "outputs": []
    },
    {
      "cell_type": "code",
      "source": [
        "x_train.shape"
      ],
      "metadata": {
        "colab": {
          "base_uri": "https://localhost:8080/"
        },
        "id": "na8MZx_RkxaE",
        "outputId": "f6137f28-889c-4562-8d0c-cc90159fa074"
      },
      "execution_count": null,
      "outputs": [
        {
          "output_type": "execute_result",
          "data": {
            "text/plain": [
              "(8,)"
            ]
          },
          "metadata": {},
          "execution_count": 19
        }
      ]
    },
    {
      "cell_type": "code",
      "source": [
        "x_test.shape"
      ],
      "metadata": {
        "colab": {
          "base_uri": "https://localhost:8080/"
        },
        "id": "dc4G0cSYk1Kd",
        "outputId": "0dce334b-9dba-4e96-ee3d-78321fc5f2fb"
      },
      "execution_count": null,
      "outputs": [
        {
          "output_type": "execute_result",
          "data": {
            "text/plain": [
              "(2,)"
            ]
          },
          "metadata": {},
          "execution_count": 20
        }
      ]
    },
    {
      "cell_type": "code",
      "source": [
        "from sklearn.feature_extraction.text import CountVectorizer\n",
        "v = CountVectorizer()\n",
        "\n",
        "x_train_cv = v.fit_transform(x_train.values)\n",
        "x_train_cv"
      ],
      "metadata": {
        "colab": {
          "base_uri": "https://localhost:8080/"
        },
        "id": "z_c7y-7ek48r",
        "outputId": "12760163-4027-4155-821e-30cb9e89f02c"
      },
      "execution_count": null,
      "outputs": [
        {
          "output_type": "execute_result",
          "data": {
            "text/plain": [
              "<8x117 sparse matrix of type '<class 'numpy.int64'>'\n",
              "\twith 159 stored elements in Compressed Sparse Row format>"
            ]
          },
          "metadata": {},
          "execution_count": 21
        }
      ]
    },
    {
      "cell_type": "code",
      "source": [
        "x_train_cv.toarray()[:2][0]"
      ],
      "metadata": {
        "colab": {
          "base_uri": "https://localhost:8080/"
        },
        "id": "YUHfnbBOk4sB",
        "outputId": "95a661c4-1191-4f48-84e0-3cb9100c2931"
      },
      "execution_count": null,
      "outputs": [
        {
          "output_type": "execute_result",
          "data": {
            "text/plain": [
              "array([0, 0, 0, 0, 1, 0, 0, 0, 0, 0, 1, 0, 0, 1, 1, 0, 0, 0, 0, 0, 0, 0,\n",
              "       0, 0, 0, 0, 0, 0, 0, 0, 0, 0, 0, 0, 0, 0, 0, 1, 0, 1, 0, 0, 1, 0,\n",
              "       1, 0, 0, 1, 0, 0, 0, 0, 0, 0, 1, 0, 0, 0, 0, 0, 0, 0, 1, 0, 0, 0,\n",
              "       0, 0, 1, 0, 0, 0, 0, 0, 0, 1, 0, 0, 0, 0, 1, 0, 1, 0, 1, 0, 0, 0,\n",
              "       0, 0, 0, 0, 0, 0, 0, 0, 0, 0, 0, 0, 0, 0, 0, 1, 0, 0, 0, 0, 0, 0,\n",
              "       0, 0, 0, 0, 0, 0, 1])"
            ]
          },
          "metadata": {},
          "execution_count": 22
        }
      ]
    },
    {
      "cell_type": "code",
      "source": [
        "x_train_cv.shape"
      ],
      "metadata": {
        "colab": {
          "base_uri": "https://localhost:8080/"
        },
        "id": "toys4hnvlkTz",
        "outputId": "fa5060c2-c2d9-4f5a-fc7d-448914b672f9"
      },
      "execution_count": null,
      "outputs": [
        {
          "output_type": "execute_result",
          "data": {
            "text/plain": [
              "(8, 117)"
            ]
          },
          "metadata": {},
          "execution_count": 23
        }
      ]
    },
    {
      "cell_type": "code",
      "source": [
        "v.get_feature_names_out()"
      ],
      "metadata": {
        "colab": {
          "base_uri": "https://localhost:8080/"
        },
        "id": "IUglp2QPlo6j",
        "outputId": "4058b076-632b-4608-b697-a61035f319dc"
      },
      "execution_count": null,
      "outputs": [
        {
          "output_type": "execute_result",
          "data": {
            "text/plain": [
              "array(['12', '50', 'access', 'account', 'actively', 'activity',\n",
              "       'addressee', 'all', 'amazon', 'an', 'and', 'any', 'aws', 'be',\n",
              "       'bosch', 'build', 'but', 'by', 'can', 'career', 'centre', 'check',\n",
              "       'completed', 'contain', 'contains', 'creating', 'dev',\n",
              "       'development', 'did', 'disclaimer', 'disclosure', 'do', 'email',\n",
              "       'engineer', 'explore', 'features', 'few', 'for', 'free', 'from',\n",
              "       'get', 'github', 'good', 'grant', 'group', 'have', 'hike',\n",
              "       'hiring', 'if', 'impossible', 'in', 'india', 'information',\n",
              "       'intended', 'is', 'it', 'job', 'just', 'latest', 'limits', 'll',\n",
              "       'ltd', 'match', 'may', 'mentorship', 'minutes', 'months',\n",
              "       'morning', 'multiple', 'next', 'not', 'of', 'once', 'personal',\n",
              "       'privileged', 'profile', 'prohibited', 'projects', 'pvt', 'read',\n",
              "       'recruiter', 'rohan', 'roles', 'secure', 'seems', 'services',\n",
              "       'share', 'should', 'snow', 'software', 'solely', 'speed', 'start',\n",
              "       'strictly', 'stuff', 'supplement', 'takes', 'thank', 'that', 'the',\n",
              "       'think', 'this', 'tier', 'to', 'two', 'unlawful', 'up', 'using',\n",
              "       'web', 'weeks', 'welcome', 'will', 'with', 'within', 'years',\n",
              "       'you', 'your'], dtype=object)"
            ]
          },
          "metadata": {},
          "execution_count": 24
        }
      ]
    },
    {
      "cell_type": "code",
      "source": [
        "from sklearn.naive_bayes import MultinomialNB\n",
        "model = MultinomialNB()\n",
        "model.fit(x_train_cv, y_train)"
      ],
      "metadata": {
        "colab": {
          "base_uri": "https://localhost:8080/",
          "height": 75
        },
        "id": "eUGoZYD8l0H1",
        "outputId": "6fa39b8a-e3e5-41c7-b418-6315af74094e"
      },
      "execution_count": null,
      "outputs": [
        {
          "output_type": "execute_result",
          "data": {
            "text/plain": [
              "MultinomialNB()"
            ],
            "text/html": [
              "<style>#sk-container-id-1 {color: black;background-color: white;}#sk-container-id-1 pre{padding: 0;}#sk-container-id-1 div.sk-toggleable {background-color: white;}#sk-container-id-1 label.sk-toggleable__label {cursor: pointer;display: block;width: 100%;margin-bottom: 0;padding: 0.3em;box-sizing: border-box;text-align: center;}#sk-container-id-1 label.sk-toggleable__label-arrow:before {content: \"▸\";float: left;margin-right: 0.25em;color: #696969;}#sk-container-id-1 label.sk-toggleable__label-arrow:hover:before {color: black;}#sk-container-id-1 div.sk-estimator:hover label.sk-toggleable__label-arrow:before {color: black;}#sk-container-id-1 div.sk-toggleable__content {max-height: 0;max-width: 0;overflow: hidden;text-align: left;background-color: #f0f8ff;}#sk-container-id-1 div.sk-toggleable__content pre {margin: 0.2em;color: black;border-radius: 0.25em;background-color: #f0f8ff;}#sk-container-id-1 input.sk-toggleable__control:checked~div.sk-toggleable__content {max-height: 200px;max-width: 100%;overflow: auto;}#sk-container-id-1 input.sk-toggleable__control:checked~label.sk-toggleable__label-arrow:before {content: \"▾\";}#sk-container-id-1 div.sk-estimator input.sk-toggleable__control:checked~label.sk-toggleable__label {background-color: #d4ebff;}#sk-container-id-1 div.sk-label input.sk-toggleable__control:checked~label.sk-toggleable__label {background-color: #d4ebff;}#sk-container-id-1 input.sk-hidden--visually {border: 0;clip: rect(1px 1px 1px 1px);clip: rect(1px, 1px, 1px, 1px);height: 1px;margin: -1px;overflow: hidden;padding: 0;position: absolute;width: 1px;}#sk-container-id-1 div.sk-estimator {font-family: monospace;background-color: #f0f8ff;border: 1px dotted black;border-radius: 0.25em;box-sizing: border-box;margin-bottom: 0.5em;}#sk-container-id-1 div.sk-estimator:hover {background-color: #d4ebff;}#sk-container-id-1 div.sk-parallel-item::after {content: \"\";width: 100%;border-bottom: 1px solid gray;flex-grow: 1;}#sk-container-id-1 div.sk-label:hover label.sk-toggleable__label {background-color: #d4ebff;}#sk-container-id-1 div.sk-serial::before {content: \"\";position: absolute;border-left: 1px solid gray;box-sizing: border-box;top: 0;bottom: 0;left: 50%;z-index: 0;}#sk-container-id-1 div.sk-serial {display: flex;flex-direction: column;align-items: center;background-color: white;padding-right: 0.2em;padding-left: 0.2em;position: relative;}#sk-container-id-1 div.sk-item {position: relative;z-index: 1;}#sk-container-id-1 div.sk-parallel {display: flex;align-items: stretch;justify-content: center;background-color: white;position: relative;}#sk-container-id-1 div.sk-item::before, #sk-container-id-1 div.sk-parallel-item::before {content: \"\";position: absolute;border-left: 1px solid gray;box-sizing: border-box;top: 0;bottom: 0;left: 50%;z-index: -1;}#sk-container-id-1 div.sk-parallel-item {display: flex;flex-direction: column;z-index: 1;position: relative;background-color: white;}#sk-container-id-1 div.sk-parallel-item:first-child::after {align-self: flex-end;width: 50%;}#sk-container-id-1 div.sk-parallel-item:last-child::after {align-self: flex-start;width: 50%;}#sk-container-id-1 div.sk-parallel-item:only-child::after {width: 0;}#sk-container-id-1 div.sk-dashed-wrapped {border: 1px dashed gray;margin: 0 0.4em 0.5em 0.4em;box-sizing: border-box;padding-bottom: 0.4em;background-color: white;}#sk-container-id-1 div.sk-label label {font-family: monospace;font-weight: bold;display: inline-block;line-height: 1.2em;}#sk-container-id-1 div.sk-label-container {text-align: center;}#sk-container-id-1 div.sk-container {/* jupyter's `normalize.less` sets `[hidden] { display: none; }` but bootstrap.min.css set `[hidden] { display: none !important; }` so we also need the `!important` here to be able to override the default hidden behavior on the sphinx rendered scikit-learn.org. See: https://github.com/scikit-learn/scikit-learn/issues/21755 */display: inline-block !important;position: relative;}#sk-container-id-1 div.sk-text-repr-fallback {display: none;}</style><div id=\"sk-container-id-1\" class=\"sk-top-container\"><div class=\"sk-text-repr-fallback\"><pre>MultinomialNB()</pre><b>In a Jupyter environment, please rerun this cell to show the HTML representation or trust the notebook. <br />On GitHub, the HTML representation is unable to render, please try loading this page with nbviewer.org.</b></div><div class=\"sk-container\" hidden><div class=\"sk-item\"><div class=\"sk-estimator sk-toggleable\"><input class=\"sk-toggleable__control sk-hidden--visually\" id=\"sk-estimator-id-1\" type=\"checkbox\" checked><label for=\"sk-estimator-id-1\" class=\"sk-toggleable__label sk-toggleable__label-arrow\">MultinomialNB</label><div class=\"sk-toggleable__content\"><pre>MultinomialNB()</pre></div></div></div></div></div>"
            ]
          },
          "metadata": {},
          "execution_count": 25
        }
      ]
    },
    {
      "cell_type": "code",
      "source": [
        "x_test_cv = v.transform(x_test)\n",
        "x_test_cv"
      ],
      "metadata": {
        "colab": {
          "base_uri": "https://localhost:8080/"
        },
        "id": "c8kF1jS7mKGT",
        "outputId": "d60f74a7-28ee-44be-b72c-0ce27f71f33d"
      },
      "execution_count": null,
      "outputs": [
        {
          "output_type": "execute_result",
          "data": {
            "text/plain": [
              "<2x117 sparse matrix of type '<class 'numpy.int64'>'\n",
              "\twith 16 stored elements in Compressed Sparse Row format>"
            ]
          },
          "metadata": {},
          "execution_count": 26
        }
      ]
    },
    {
      "cell_type": "code",
      "source": [
        "from sklearn.metrics import classification_report\n",
        "\n",
        "y_pred = model.predict(x_test_cv)\n",
        "print(y_pred)\n",
        "print(classification_report(y_test, y_pred))"
      ],
      "metadata": {
        "colab": {
          "base_uri": "https://localhost:8080/"
        },
        "id": "rbYcnODpmUxu",
        "outputId": "a34fd022-11c4-4ee4-acce-8eb6e27d9a0d"
      },
      "execution_count": null,
      "outputs": [
        {
          "output_type": "stream",
          "name": "stdout",
          "text": [
            "[0 0]\n",
            "              precision    recall  f1-score   support\n",
            "\n",
            "           0       0.50      1.00      0.67         1\n",
            "           1       0.00      0.00      0.00         1\n",
            "\n",
            "    accuracy                           0.50         2\n",
            "   macro avg       0.25      0.50      0.33         2\n",
            "weighted avg       0.25      0.50      0.33         2\n",
            "\n"
          ]
        },
        {
          "output_type": "stream",
          "name": "stderr",
          "text": [
            "/usr/local/lib/python3.10/dist-packages/sklearn/metrics/_classification.py:1344: UndefinedMetricWarning: Precision and F-score are ill-defined and being set to 0.0 in labels with no predicted samples. Use `zero_division` parameter to control this behavior.\n",
            "  _warn_prf(average, modifier, msg_start, len(result))\n",
            "/usr/local/lib/python3.10/dist-packages/sklearn/metrics/_classification.py:1344: UndefinedMetricWarning: Precision and F-score are ill-defined and being set to 0.0 in labels with no predicted samples. Use `zero_division` parameter to control this behavior.\n",
            "  _warn_prf(average, modifier, msg_start, len(result))\n",
            "/usr/local/lib/python3.10/dist-packages/sklearn/metrics/_classification.py:1344: UndefinedMetricWarning: Precision and F-score are ill-defined and being set to 0.0 in labels with no predicted samples. Use `zero_division` parameter to control this behavior.\n",
            "  _warn_prf(average, modifier, msg_start, len(result))\n"
          ]
        }
      ]
    },
    {
      "cell_type": "code",
      "source": [
        "#testing\n",
        "emails = ['November at TinkerSpace was a spectacular showcase of creativity, technology, and community spirit! Each event was a unique story of learning, inspiration, and innovation. Lets relive these unforgettable moments together.', 'Do you think its�impossible to get a job with a 50% hike�in just two weeks?']\n",
        "email_count = v.transform(emails)\n",
        "model.predict(email_count)"
      ],
      "metadata": {
        "colab": {
          "base_uri": "https://localhost:8080/"
        },
        "id": "oGwoqd80m8nT",
        "outputId": "75de61cf-4823-4872-d443-993d2e1d447e"
      },
      "execution_count": null,
      "outputs": [
        {
          "output_type": "execute_result",
          "data": {
            "text/plain": [
              "array([0, 1])"
            ]
          },
          "metadata": {},
          "execution_count": 28
        }
      ]
    },
    {
      "cell_type": "code",
      "source": [
        "#bag of words model using pipeline\n",
        "from sklearn.pipeline import Pipeline\n",
        "\n",
        "classifier = Pipeline([('vectorizer', CountVectorizer()), ('nb', MultinomialNB())])\n",
        "\n",
        "classifier.fit(x_train, y_train)"
      ],
      "metadata": {
        "colab": {
          "base_uri": "https://localhost:8080/",
          "height": 126
        },
        "id": "ZGRJ4f8bnqzx",
        "outputId": "98c84ef0-70bd-4b35-bbe0-6f0a47555a64"
      },
      "execution_count": null,
      "outputs": [
        {
          "output_type": "execute_result",
          "data": {
            "text/plain": [
              "Pipeline(steps=[('vectorizer', CountVectorizer()), ('nb', MultinomialNB())])"
            ],
            "text/html": [
              "<style>#sk-container-id-2 {color: black;background-color: white;}#sk-container-id-2 pre{padding: 0;}#sk-container-id-2 div.sk-toggleable {background-color: white;}#sk-container-id-2 label.sk-toggleable__label {cursor: pointer;display: block;width: 100%;margin-bottom: 0;padding: 0.3em;box-sizing: border-box;text-align: center;}#sk-container-id-2 label.sk-toggleable__label-arrow:before {content: \"▸\";float: left;margin-right: 0.25em;color: #696969;}#sk-container-id-2 label.sk-toggleable__label-arrow:hover:before {color: black;}#sk-container-id-2 div.sk-estimator:hover label.sk-toggleable__label-arrow:before {color: black;}#sk-container-id-2 div.sk-toggleable__content {max-height: 0;max-width: 0;overflow: hidden;text-align: left;background-color: #f0f8ff;}#sk-container-id-2 div.sk-toggleable__content pre {margin: 0.2em;color: black;border-radius: 0.25em;background-color: #f0f8ff;}#sk-container-id-2 input.sk-toggleable__control:checked~div.sk-toggleable__content {max-height: 200px;max-width: 100%;overflow: auto;}#sk-container-id-2 input.sk-toggleable__control:checked~label.sk-toggleable__label-arrow:before {content: \"▾\";}#sk-container-id-2 div.sk-estimator input.sk-toggleable__control:checked~label.sk-toggleable__label {background-color: #d4ebff;}#sk-container-id-2 div.sk-label input.sk-toggleable__control:checked~label.sk-toggleable__label {background-color: #d4ebff;}#sk-container-id-2 input.sk-hidden--visually {border: 0;clip: rect(1px 1px 1px 1px);clip: rect(1px, 1px, 1px, 1px);height: 1px;margin: -1px;overflow: hidden;padding: 0;position: absolute;width: 1px;}#sk-container-id-2 div.sk-estimator {font-family: monospace;background-color: #f0f8ff;border: 1px dotted black;border-radius: 0.25em;box-sizing: border-box;margin-bottom: 0.5em;}#sk-container-id-2 div.sk-estimator:hover {background-color: #d4ebff;}#sk-container-id-2 div.sk-parallel-item::after {content: \"\";width: 100%;border-bottom: 1px solid gray;flex-grow: 1;}#sk-container-id-2 div.sk-label:hover label.sk-toggleable__label {background-color: #d4ebff;}#sk-container-id-2 div.sk-serial::before {content: \"\";position: absolute;border-left: 1px solid gray;box-sizing: border-box;top: 0;bottom: 0;left: 50%;z-index: 0;}#sk-container-id-2 div.sk-serial {display: flex;flex-direction: column;align-items: center;background-color: white;padding-right: 0.2em;padding-left: 0.2em;position: relative;}#sk-container-id-2 div.sk-item {position: relative;z-index: 1;}#sk-container-id-2 div.sk-parallel {display: flex;align-items: stretch;justify-content: center;background-color: white;position: relative;}#sk-container-id-2 div.sk-item::before, #sk-container-id-2 div.sk-parallel-item::before {content: \"\";position: absolute;border-left: 1px solid gray;box-sizing: border-box;top: 0;bottom: 0;left: 50%;z-index: -1;}#sk-container-id-2 div.sk-parallel-item {display: flex;flex-direction: column;z-index: 1;position: relative;background-color: white;}#sk-container-id-2 div.sk-parallel-item:first-child::after {align-self: flex-end;width: 50%;}#sk-container-id-2 div.sk-parallel-item:last-child::after {align-self: flex-start;width: 50%;}#sk-container-id-2 div.sk-parallel-item:only-child::after {width: 0;}#sk-container-id-2 div.sk-dashed-wrapped {border: 1px dashed gray;margin: 0 0.4em 0.5em 0.4em;box-sizing: border-box;padding-bottom: 0.4em;background-color: white;}#sk-container-id-2 div.sk-label label {font-family: monospace;font-weight: bold;display: inline-block;line-height: 1.2em;}#sk-container-id-2 div.sk-label-container {text-align: center;}#sk-container-id-2 div.sk-container {/* jupyter's `normalize.less` sets `[hidden] { display: none; }` but bootstrap.min.css set `[hidden] { display: none !important; }` so we also need the `!important` here to be able to override the default hidden behavior on the sphinx rendered scikit-learn.org. See: https://github.com/scikit-learn/scikit-learn/issues/21755 */display: inline-block !important;position: relative;}#sk-container-id-2 div.sk-text-repr-fallback {display: none;}</style><div id=\"sk-container-id-2\" class=\"sk-top-container\"><div class=\"sk-text-repr-fallback\"><pre>Pipeline(steps=[(&#x27;vectorizer&#x27;, CountVectorizer()), (&#x27;nb&#x27;, MultinomialNB())])</pre><b>In a Jupyter environment, please rerun this cell to show the HTML representation or trust the notebook. <br />On GitHub, the HTML representation is unable to render, please try loading this page with nbviewer.org.</b></div><div class=\"sk-container\" hidden><div class=\"sk-item sk-dashed-wrapped\"><div class=\"sk-label-container\"><div class=\"sk-label sk-toggleable\"><input class=\"sk-toggleable__control sk-hidden--visually\" id=\"sk-estimator-id-2\" type=\"checkbox\" ><label for=\"sk-estimator-id-2\" class=\"sk-toggleable__label sk-toggleable__label-arrow\">Pipeline</label><div class=\"sk-toggleable__content\"><pre>Pipeline(steps=[(&#x27;vectorizer&#x27;, CountVectorizer()), (&#x27;nb&#x27;, MultinomialNB())])</pre></div></div></div><div class=\"sk-serial\"><div class=\"sk-item\"><div class=\"sk-estimator sk-toggleable\"><input class=\"sk-toggleable__control sk-hidden--visually\" id=\"sk-estimator-id-3\" type=\"checkbox\" ><label for=\"sk-estimator-id-3\" class=\"sk-toggleable__label sk-toggleable__label-arrow\">CountVectorizer</label><div class=\"sk-toggleable__content\"><pre>CountVectorizer()</pre></div></div></div><div class=\"sk-item\"><div class=\"sk-estimator sk-toggleable\"><input class=\"sk-toggleable__control sk-hidden--visually\" id=\"sk-estimator-id-4\" type=\"checkbox\" ><label for=\"sk-estimator-id-4\" class=\"sk-toggleable__label sk-toggleable__label-arrow\">MultinomialNB</label><div class=\"sk-toggleable__content\"><pre>MultinomialNB()</pre></div></div></div></div></div></div></div>"
            ]
          },
          "metadata": {},
          "execution_count": 29
        }
      ]
    },
    {
      "cell_type": "code",
      "source": [
        "y_pred = classifier.predict(x_test)\n",
        "print(y_pred)\n",
        "print(classification_report(y_test, y_pred))"
      ],
      "metadata": {
        "colab": {
          "base_uri": "https://localhost:8080/"
        },
        "id": "v5iUbboTocKq",
        "outputId": "fcbb5fd2-f7bd-4502-e315-788541349bbd"
      },
      "execution_count": null,
      "outputs": [
        {
          "output_type": "stream",
          "name": "stdout",
          "text": [
            "[0 0]\n",
            "              precision    recall  f1-score   support\n",
            "\n",
            "           0       0.50      1.00      0.67         1\n",
            "           1       0.00      0.00      0.00         1\n",
            "\n",
            "    accuracy                           0.50         2\n",
            "   macro avg       0.25      0.50      0.33         2\n",
            "weighted avg       0.25      0.50      0.33         2\n",
            "\n"
          ]
        },
        {
          "output_type": "stream",
          "name": "stderr",
          "text": [
            "/usr/local/lib/python3.10/dist-packages/sklearn/metrics/_classification.py:1344: UndefinedMetricWarning: Precision and F-score are ill-defined and being set to 0.0 in labels with no predicted samples. Use `zero_division` parameter to control this behavior.\n",
            "  _warn_prf(average, modifier, msg_start, len(result))\n",
            "/usr/local/lib/python3.10/dist-packages/sklearn/metrics/_classification.py:1344: UndefinedMetricWarning: Precision and F-score are ill-defined and being set to 0.0 in labels with no predicted samples. Use `zero_division` parameter to control this behavior.\n",
            "  _warn_prf(average, modifier, msg_start, len(result))\n",
            "/usr/local/lib/python3.10/dist-packages/sklearn/metrics/_classification.py:1344: UndefinedMetricWarning: Precision and F-score are ill-defined and being set to 0.0 in labels with no predicted samples. Use `zero_division` parameter to control this behavior.\n",
            "  _warn_prf(average, modifier, msg_start, len(result))\n"
          ]
        }
      ]
    },
    {
      "cell_type": "markdown",
      "source": [
        "create an nlp model for the word vectors to check the vectors by providing any sample values. Also check the similarity with any base token value."
      ],
      "metadata": {
        "id": "8wp9q3rG5-BV"
      }
    },
    {
      "cell_type": "code",
      "source": [
        "#check vectors\n",
        "doc = nlp(text)\n",
        "for token in doc:\n",
        "  print(token.text, \"Vector: \", token.is_oov)"
      ],
      "metadata": {
        "colab": {
          "base_uri": "https://localhost:8080/"
        },
        "id": "dQ1CQkKh6NPh",
        "outputId": "c5a606fb-33ee-466f-a93a-0550bf4752e0"
      },
      "execution_count": null,
      "outputs": [
        {
          "output_type": "stream",
          "name": "stdout",
          "text": [
            "IoT Vector:  True\n",
            "stands Vector:  True\n",
            "for Vector:  True\n",
            "Internet Vector:  True\n",
            "of Vector:  True\n",
            "Things Vector:  True\n",
            ". Vector:  True\n",
            "It Vector:  True\n",
            "refers Vector:  True\n",
            "to Vector:  True\n",
            "the Vector:  True\n",
            "interconnectedness Vector:  True\n",
            "of Vector:  True\n",
            "physical Vector:  True\n",
            "devices Vector:  True\n",
            ", Vector:  True\n",
            "such Vector:  True\n",
            "as Vector:  True\n",
            "appliances Vector:  True\n",
            "and Vector:  True\n",
            "vehicles Vector:  True\n",
            ", Vector:  True\n",
            "that Vector:  True\n",
            "are Vector:  True\n",
            "embedded Vector:  True\n",
            "with Vector:  True\n",
            "software Vector:  True\n",
            ", Vector:  True\n",
            "sensors Vector:  True\n",
            ", Vector:  True\n",
            "and Vector:  True\n",
            "connectivity Vector:  True\n",
            "which Vector:  True\n",
            "enables Vector:  True\n",
            "these Vector:  True\n",
            "objects Vector:  True\n",
            "to Vector:  True\n",
            "connect Vector:  True\n",
            "and Vector:  True\n",
            "exchange Vector:  True\n",
            "data Vector:  True\n",
            ". Vector:  True\n",
            "This Vector:  True\n",
            "technology Vector:  True\n",
            "allows Vector:  True\n",
            "for Vector:  True\n",
            "the Vector:  True\n",
            "collection Vector:  True\n",
            "and Vector:  True\n",
            "sharing Vector:  True\n",
            "of Vector:  True\n",
            "data Vector:  True\n",
            "from Vector:  True\n",
            "a Vector:  True\n",
            "vast Vector:  True\n",
            "network Vector:  True\n",
            "of Vector:  True\n",
            "devices Vector:  True\n",
            ", Vector:  True\n",
            "creating Vector:  True\n",
            "opportunities Vector:  True\n",
            "for Vector:  True\n",
            "more Vector:  True\n",
            "efficient Vector:  True\n",
            "and Vector:  True\n",
            "automated Vector:  True\n",
            "systems Vector:  True\n",
            ". Vector:  True\n",
            "Internet Vector:  True\n",
            "of Vector:  True\n",
            "Things Vector:  True\n",
            "( Vector:  True\n",
            "IoT Vector:  True\n",
            ") Vector:  True\n",
            "is Vector:  True\n",
            "the Vector:  True\n",
            "networking Vector:  True\n",
            "of Vector:  True\n",
            "physical Vector:  True\n",
            "objects Vector:  True\n",
            "that Vector:  True\n",
            "contain Vector:  True\n",
            "electronics Vector:  True\n",
            "embedded Vector:  True\n",
            "within Vector:  True\n",
            "their Vector:  True\n",
            "architecture Vector:  True\n",
            "in Vector:  True\n",
            "order Vector:  True\n",
            "to Vector:  True\n",
            "communicate Vector:  True\n",
            "and Vector:  True\n",
            "sense Vector:  True\n",
            "interactions Vector:  True\n",
            "amongst Vector:  True\n",
            "each Vector:  True\n",
            "other Vector:  True\n",
            "or Vector:  True\n",
            "with Vector:  True\n",
            "respect Vector:  True\n",
            "to Vector:  True\n",
            "the Vector:  True\n",
            "external Vector:  True\n",
            "environment Vector:  True\n",
            ". Vector:  True\n",
            "In Vector:  True\n",
            "the Vector:  True\n",
            "upcoming Vector:  True\n",
            "years Vector:  True\n",
            ", Vector:  True\n",
            "IoT Vector:  True\n",
            "- Vector:  True\n",
            "based Vector:  True\n",
            "technology Vector:  True\n",
            "will Vector:  True\n",
            "offer Vector:  True\n",
            "advanced Vector:  True\n",
            "levels Vector:  True\n",
            "of Vector:  True\n",
            "services Vector:  True\n",
            "and Vector:  True\n",
            "practically Vector:  True\n",
            "change Vector:  True\n",
            "the Vector:  True\n",
            "way Vector:  True\n",
            "people Vector:  True\n",
            "lead Vector:  True\n",
            "their Vector:  True\n",
            "daily Vector:  True\n",
            "lives Vector:  True\n",
            ". Vector:  True\n",
            "Advancements Vector:  True\n",
            "in Vector:  True\n",
            "medicine Vector:  True\n",
            ", Vector:  True\n",
            "power Vector:  True\n",
            ", Vector:  True\n",
            "gene Vector:  True\n",
            "therapies Vector:  True\n",
            ", Vector:  True\n",
            "agriculture Vector:  True\n",
            ", Vector:  True\n",
            "smart Vector:  True\n",
            "cities Vector:  True\n",
            ", Vector:  True\n",
            "and Vector:  True\n",
            "smart Vector:  True\n",
            "homes Vector:  True\n",
            "are Vector:  True\n",
            "just Vector:  True\n",
            "a Vector:  True\n",
            "few Vector:  True\n",
            "of Vector:  True\n",
            "the Vector:  True\n",
            "categorical Vector:  True\n",
            "examples Vector:  True\n",
            "where Vector:  True\n",
            "IoT Vector:  True\n",
            "is Vector:  True\n",
            "strongly Vector:  True\n",
            "established Vector:  True\n",
            ". Vector:  True\n"
          ]
        }
      ]
    },
    {
      "cell_type": "code",
      "source": [
        "#similarity check\n",
        "base_token = nlp(\"Information Technology\")\n",
        "base_token.vector.shape"
      ],
      "metadata": {
        "colab": {
          "base_uri": "https://localhost:8080/"
        },
        "id": "E6OwBDpF6-hD",
        "outputId": "ac3fe0ac-46b3-4cdd-af38-6e7455b85630"
      },
      "execution_count": null,
      "outputs": [
        {
          "output_type": "execute_result",
          "data": {
            "text/plain": [
              "(96,)"
            ]
          },
          "metadata": {},
          "execution_count": 32
        }
      ]
    },
    {
      "cell_type": "code",
      "source": [
        "doc = nlp(\"Artificial Intelligence Data Science Web Development, Bus, Burger, Flat\")\n",
        "for token in doc:\n",
        "  print(token.text, \"|\" ,base_token.text, \"|\" ,token.similarity(base_token))"
      ],
      "metadata": {
        "colab": {
          "base_uri": "https://localhost:8080/"
        },
        "id": "cmK1mhRV7y7X",
        "outputId": "fb96e60d-31d4-4e80-c631-af7208d4d9ed"
      },
      "execution_count": null,
      "outputs": [
        {
          "output_type": "stream",
          "name": "stdout",
          "text": [
            "Artificial | Information Technology | 0.6546697885780386\n",
            "Intelligence | Information Technology | 0.6217872473476157\n",
            "Data | Information Technology | 0.5336244146030161\n",
            "Science | Information Technology | 0.5802137637749405\n",
            "Web | Information Technology | 0.5324060170228595\n",
            "Development | Information Technology | 0.5981362307259082\n",
            ", | Information Technology | -0.06318724467311117\n",
            "Bus | Information Technology | 0.4977579802415653\n",
            ", | Information Technology | -0.10375887041601252\n",
            "Burger | Information Technology | 0.4643274712068716\n",
            ", | Information Technology | -0.02548807967592598\n",
            "Flat | Information Technology | 0.3593913236322189\n"
          ]
        },
        {
          "output_type": "stream",
          "name": "stderr",
          "text": [
            "<ipython-input-33-5963954de32e>:3: UserWarning: [W007] The model you're using has no word vectors loaded, so the result of the Token.similarity method will be based on the tagger, parser and NER, which may not give useful similarity judgements. This may happen if you're using one of the small models, e.g. `en_core_web_sm`, which don't ship with word vectors and only use context-sensitive tensors. You can always add your own word vectors, or use one of the larger models instead if available.\n",
            "  print(token.text, \"|\" ,base_token.text, \"|\" ,token.similarity(base_token))\n"
          ]
        }
      ]
    },
    {
      "cell_type": "code",
      "source": [],
      "metadata": {
        "id": "R7dvf6BZzwlN"
      },
      "execution_count": null,
      "outputs": []
    }
  ]
}