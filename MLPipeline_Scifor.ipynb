{
  "nbformat": 4,
  "nbformat_minor": 0,
  "metadata": {
    "colab": {
      "provenance": [],
      "gpuType": "T4"
    },
    "kernelspec": {
      "name": "python3",
      "display_name": "Python 3"
    },
    "language_info": {
      "name": "python"
    },
    "accelerator": "GPU"
  },
  "cells": [
    {
      "cell_type": "markdown",
      "source": [
        "# text data"
      ],
      "metadata": {
        "id": "NJGeQKPIIkjw"
      }
    },
    {
      "cell_type": "code",
      "execution_count": null,
      "metadata": {
        "id": "vosnp0rFDphy"
      },
      "outputs": [],
      "source": [
        "#importing tensorflow\n",
        "import tensorflow as tf"
      ]
    },
    {
      "cell_type": "code",
      "source": [
        "#initializing the data values\n",
        "numbers = [23, 45,12, -23, 57, -54, -57, 34, 56, 67]"
      ],
      "metadata": {
        "id": "jQEpWuIXEHtr"
      },
      "execution_count": null,
      "outputs": []
    },
    {
      "cell_type": "code",
      "source": [
        "#converting to df\n",
        "df = tf.data.Dataset.from_tensor_slices(numbers)\n",
        "df"
      ],
      "metadata": {
        "colab": {
          "base_uri": "https://localhost:8080/"
        },
        "id": "96LUXBnOEHqS",
        "outputId": "aebacfdf-c741-4fd1-ea57-74fb49ca0e89"
      },
      "execution_count": null,
      "outputs": [
        {
          "output_type": "execute_result",
          "data": {
            "text/plain": [
              "<_TensorSliceDataset element_spec=TensorSpec(shape=(), dtype=tf.int32, name=None)>"
            ]
          },
          "metadata": {},
          "execution_count": 3
        }
      ]
    },
    {
      "cell_type": "code",
      "source": [
        "#getting each numbers\n",
        "for sales in df:\n",
        "  print(sales.numpy())"
      ],
      "metadata": {
        "colab": {
          "base_uri": "https://localhost:8080/"
        },
        "id": "g7CbNQmyEHnx",
        "outputId": "ca752c73-a4dd-4fbd-af92-b67bfa688def"
      },
      "execution_count": null,
      "outputs": [
        {
          "output_type": "stream",
          "name": "stdout",
          "text": [
            "23\n",
            "45\n",
            "12\n",
            "-23\n",
            "57\n",
            "-54\n",
            "-57\n",
            "34\n",
            "56\n",
            "67\n"
          ]
        }
      ]
    },
    {
      "cell_type": "code",
      "source": [
        "#first 3 values are taken\n",
        "for sales in df.take(3):\n",
        "  print(sales.numpy())"
      ],
      "metadata": {
        "colab": {
          "base_uri": "https://localhost:8080/"
        },
        "id": "qzpFMEu5EHlP",
        "outputId": "c14fa4e7-4996-488e-f46e-ac2f42ec255f"
      },
      "execution_count": null,
      "outputs": [
        {
          "output_type": "stream",
          "name": "stdout",
          "text": [
            "23\n",
            "45\n",
            "12\n"
          ]
        }
      ]
    },
    {
      "cell_type": "code",
      "source": [
        "#filtering numbers >0\n",
        "df = df.filter(lambda x: x>0)\n",
        "for sales in df.as_numpy_iterator():\n",
        "    print(sales)"
      ],
      "metadata": {
        "colab": {
          "base_uri": "https://localhost:8080/"
        },
        "id": "H3N0sMqvEHih",
        "outputId": "5dc813f1-8392-43d7-b14a-a60171f31937"
      },
      "execution_count": null,
      "outputs": [
        {
          "output_type": "stream",
          "name": "stdout",
          "text": [
            "23\n",
            "45\n",
            "12\n",
            "57\n",
            "34\n",
            "56\n",
            "67\n"
          ]
        }
      ]
    },
    {
      "cell_type": "code",
      "source": [
        "#coverting $ to RS\n",
        "df = df.map(lambda x: x*83)\n",
        "for sales in df.as_numpy_iterator():\n",
        "  print(sales)"
      ],
      "metadata": {
        "colab": {
          "base_uri": "https://localhost:8080/"
        },
        "id": "xUsO21x2EHf2",
        "outputId": "f0f75bdb-acdc-4da8-fccb-33320ba42850"
      },
      "execution_count": null,
      "outputs": [
        {
          "output_type": "stream",
          "name": "stdout",
          "text": [
            "1909\n",
            "3735\n",
            "996\n",
            "4731\n",
            "2822\n",
            "4648\n",
            "5561\n"
          ]
        }
      ]
    },
    {
      "cell_type": "code",
      "source": [
        "#shuffling\n",
        "df = df.shuffle(3)\n",
        "for sales in df.as_numpy_iterator():\n",
        "  print(sales)"
      ],
      "metadata": {
        "colab": {
          "base_uri": "https://localhost:8080/"
        },
        "id": "-bQzjvKYHCsA",
        "outputId": "49385c2d-0709-47d1-b6d7-e817ab281fc5"
      },
      "execution_count": null,
      "outputs": [
        {
          "output_type": "stream",
          "name": "stdout",
          "text": [
            "996\n",
            "3735\n",
            "2822\n",
            "4731\n",
            "1909\n",
            "4648\n",
            "5561\n"
          ]
        }
      ]
    },
    {
      "cell_type": "code",
      "source": [
        "#batch processing\n",
        "for sales in df.batch(3):\n",
        "  print(sales.numpy())"
      ],
      "metadata": {
        "colab": {
          "base_uri": "https://localhost:8080/"
        },
        "id": "s4Vf0ms_HCop",
        "outputId": "ee7e1f9e-b6e5-49c5-c0d2-9d6a707b1788"
      },
      "execution_count": null,
      "outputs": [
        {
          "output_type": "stream",
          "name": "stdout",
          "text": [
            "[ 996 1909 3735]\n",
            "[4648 5561 2822]\n",
            "[4731]\n"
          ]
        }
      ]
    },
    {
      "cell_type": "code",
      "source": [
        "#using pipeline the processes are performed\n",
        "df = tf.data.Dataset.from_tensor_slices(numbers)\n",
        "df = df.filter(lambda x: x>0).map(lambda y: y*83).shuffle(2).batch(3)\n",
        "\n",
        "for sales in df.as_numpy_iterator():\n",
        "  print(sales)"
      ],
      "metadata": {
        "colab": {
          "base_uri": "https://localhost:8080/"
        },
        "id": "sFcsdvORHCmU",
        "outputId": "8b3d054e-5437-493a-a063-bea6e3537905"
      },
      "execution_count": null,
      "outputs": [
        {
          "output_type": "stream",
          "name": "stdout",
          "text": [
            "[1909 3735 4731]\n",
            "[2822 4648  996]\n",
            "[5561]\n"
          ]
        }
      ]
    },
    {
      "cell_type": "markdown",
      "source": [
        "# Image data"
      ],
      "metadata": {
        "id": "uE2-vhH7IjXi"
      }
    },
    {
      "cell_type": "code",
      "source": [
        "from google.colab import drive\n",
        "drive.mount('/content/drive')"
      ],
      "metadata": {
        "colab": {
          "base_uri": "https://localhost:8080/"
        },
        "id": "olbMXextI08d",
        "outputId": "5dabd729-29af-4494-f7de-438d849a534c"
      },
      "execution_count": null,
      "outputs": [
        {
          "output_type": "stream",
          "name": "stdout",
          "text": [
            "Mounted at /content/drive\n"
          ]
        }
      ]
    },
    {
      "cell_type": "code",
      "source": [
        "#converting as a dataset\n",
        "img = tf.data.Dataset.list_files(\"/content/drive/MyDrive/PROJECT DETAILS/Samples/*/*\", shuffle = False)\n",
        "\n",
        "for file in img.take(3):\n",
        "  print(file.numpy())"
      ],
      "metadata": {
        "colab": {
          "base_uri": "https://localhost:8080/"
        },
        "id": "csUUnUviIi7A",
        "outputId": "ea895215-5596-45d7-9d23-848f9c8fbde0"
      },
      "execution_count": null,
      "outputs": [
        {
          "output_type": "stream",
          "name": "stdout",
          "text": [
            "b'/content/drive/MyDrive/PROJECT DETAILS/Samples/Encrypted/encrypted_fruit_F.jpeg'\n",
            "b'/content/drive/MyDrive/PROJECT DETAILS/Samples/Encrypted/fruit_encrypted.jpeg'\n",
            "b'/content/drive/MyDrive/PROJECT DETAILS/Samples/image/HorizonZero.png'\n"
          ]
        }
      ]
    },
    {
      "cell_type": "code",
      "source": [
        "#shuffle images\n",
        "img = img.shuffle(10)\n",
        "for file in img.take(3):\n",
        "  print(file.numpy())"
      ],
      "metadata": {
        "colab": {
          "base_uri": "https://localhost:8080/"
        },
        "id": "mPFdsbeSHCjq",
        "outputId": "f1d3ef73-7e3f-41f2-e757-4edb0b0143fe"
      },
      "execution_count": null,
      "outputs": [
        {
          "output_type": "stream",
          "name": "stdout",
          "text": [
            "b'/content/drive/MyDrive/PROJECT DETAILS/Samples/image/sunflower.jpg'\n",
            "b'/content/drive/MyDrive/PROJECT DETAILS/Samples/image/fruit_image_F.jpeg'\n",
            "b'/content/drive/MyDrive/PROJECT DETAILS/Samples/Encrypted/encrypted_fruit_F.jpeg'\n"
          ]
        }
      ]
    },
    {
      "cell_type": "code",
      "source": [
        "img_count = len(img)\n",
        "img_count"
      ],
      "metadata": {
        "colab": {
          "base_uri": "https://localhost:8080/"
        },
        "id": "buI2rAyWHChQ",
        "outputId": "b46e5ec2-ec1c-4a97-ca6c-02ea5c900ce9"
      },
      "execution_count": null,
      "outputs": [
        {
          "output_type": "execute_result",
          "data": {
            "text/plain": [
              "7"
            ]
          },
          "metadata": {},
          "execution_count": 14
        }
      ]
    },
    {
      "cell_type": "code",
      "source": [
        "train_size = int(img_count*0.8)"
      ],
      "metadata": {
        "id": "Vqj2h5eMKhO0"
      },
      "execution_count": null,
      "outputs": []
    },
    {
      "cell_type": "code",
      "source": [
        "#splitting into train and test\n",
        "train_img = img.take(train_size)\n",
        "test_img = img.skip(train_size)"
      ],
      "metadata": {
        "id": "jIshSgNjKhLS"
      },
      "execution_count": null,
      "outputs": []
    },
    {
      "cell_type": "code",
      "source": [
        "def get_label(file_path):\n",
        "  import os\n",
        "  return tf.strings.split(file_path,os.path.sep)[-2]"
      ],
      "metadata": {
        "id": "1Yz4BArZKhIm"
      },
      "execution_count": null,
      "outputs": []
    },
    {
      "cell_type": "code",
      "source": [
        "#trainset to numpy\n",
        "for t in train_img.take(4):\n",
        "  print(t.numpy())"
      ],
      "metadata": {
        "colab": {
          "base_uri": "https://localhost:8080/"
        },
        "id": "Tw82e6TLKhF6",
        "outputId": "6c1e9dd8-36da-4edb-8177-94551e659d6d"
      },
      "execution_count": null,
      "outputs": [
        {
          "output_type": "stream",
          "name": "stdout",
          "text": [
            "b'/content/drive/MyDrive/PROJECT DETAILS/Samples/image/fruit_image_F.jpeg'\n",
            "b'/content/drive/MyDrive/PROJECT DETAILS/Samples/image/fruit.jpeg'\n",
            "b'/content/drive/MyDrive/PROJECT DETAILS/Samples/image/sunflower.jpg'\n",
            "b'/content/drive/MyDrive/PROJECT DETAILS/Samples/image/HorizonZero.png'\n"
          ]
        }
      ]
    },
    {
      "cell_type": "code",
      "source": [
        "#printing the label\n",
        "for label in train_img.map(get_label):\n",
        "  print(label)"
      ],
      "metadata": {
        "colab": {
          "base_uri": "https://localhost:8080/"
        },
        "id": "WrZEUvZ2LqFX",
        "outputId": "bb4cbf87-79b3-4162-91fe-4eedc96af00f"
      },
      "execution_count": null,
      "outputs": [
        {
          "output_type": "stream",
          "name": "stdout",
          "text": [
            "tf.Tensor(b'image', shape=(), dtype=string)\n",
            "tf.Tensor(b'image', shape=(), dtype=string)\n",
            "tf.Tensor(b'Encrypted', shape=(), dtype=string)\n",
            "tf.Tensor(b'image', shape=(), dtype=string)\n",
            "tf.Tensor(b'Encrypted', shape=(), dtype=string)\n"
          ]
        }
      ]
    },
    {
      "cell_type": "code",
      "source": [
        "#processing the image\n",
        "def process_img(file_path):\n",
        "  label = get_label(file_path)\n",
        "\n",
        "  img = tf.io.read_file(file_path)\n",
        "  img = tf.image.decode_jpeg(img)\n",
        "  img = tf.image.resize(img, [128,128])\n",
        "\n",
        "  return img, label"
      ],
      "metadata": {
        "id": "1xQd0fOtLqCA"
      },
      "execution_count": null,
      "outputs": []
    },
    {
      "cell_type": "code",
      "source": [
        "#result using pipeline\n",
        "for imge, labels in train_img.map(process_img).take(3):\n",
        "  print(imge)\n",
        "  print(labels)"
      ],
      "metadata": {
        "colab": {
          "base_uri": "https://localhost:8080/"
        },
        "id": "G5oxSgjtLp_j",
        "outputId": "53492f6c-b387-4477-966d-fd8c0d47d5a2"
      },
      "execution_count": null,
      "outputs": [
        {
          "output_type": "stream",
          "name": "stdout",
          "text": [
            "tf.Tensor(\n",
            "[[[ 89.5   89.5   89.5 ]\n",
            "  [135.25 135.25 135.25]\n",
            "  [149.75 149.75 149.75]\n",
            "  ...\n",
            "  [ 70.75  70.75  70.75]\n",
            "  [154.25 154.25 154.25]\n",
            "  [156.5  156.5  156.5 ]]\n",
            "\n",
            " [[125.   125.   125.  ]\n",
            "  [ 93.75  93.75  93.75]\n",
            "  [137.5  137.5  137.5 ]\n",
            "  ...\n",
            "  [105.5  105.5  105.5 ]\n",
            "  [162.5  162.5  162.5 ]\n",
            "  [119.5  119.5  119.5 ]]\n",
            "\n",
            " [[121.   121.   121.  ]\n",
            "  [216.75 216.75 216.75]\n",
            "  [170.75 170.75 170.75]\n",
            "  ...\n",
            "  [156.   156.   156.  ]\n",
            "  [116.   116.   116.  ]\n",
            "  [ 76.5   76.5   76.5 ]]\n",
            "\n",
            " ...\n",
            "\n",
            " [[144.   144.   144.  ]\n",
            "  [185.5  185.5  185.5 ]\n",
            "  [128.75 128.75 128.75]\n",
            "  ...\n",
            "  [ 81.25  81.25  81.25]\n",
            "  [112.   112.   112.  ]\n",
            "  [134.   134.   134.  ]]\n",
            "\n",
            " [[ 81.25  81.25  81.25]\n",
            "  [111.25 111.25 111.25]\n",
            "  [102.25 102.25 102.25]\n",
            "  ...\n",
            "  [110.75 110.75 110.75]\n",
            "  [167.75 167.75 167.75]\n",
            "  [ 67.    67.    67.  ]]\n",
            "\n",
            " [[114.5  114.5  114.5 ]\n",
            "  [ 53.5   53.5   53.5 ]\n",
            "  [106.75 106.75 106.75]\n",
            "  ...\n",
            "  [124.75 124.75 124.75]\n",
            "  [137.5  137.5  137.5 ]\n",
            "  [128.5  128.5  128.5 ]]], shape=(128, 128, 3), dtype=float32)\n",
            "tf.Tensor(b'Encrypted', shape=(), dtype=string)\n",
            "tf.Tensor(\n",
            "[[[172.81201 ]\n",
            "  [132.71875 ]\n",
            "  [ 96.53369 ]\n",
            "  ...\n",
            "  [ 77.      ]\n",
            "  [ 75.      ]\n",
            "  [ 74.      ]]\n",
            "\n",
            " [[122.5625  ]\n",
            "  [ 91.17627 ]\n",
            "  [ 69.91455 ]\n",
            "  ...\n",
            "  [ 75.      ]\n",
            "  [ 74.      ]\n",
            "  [ 72.609375]]\n",
            "\n",
            " [[ 89.72119 ]\n",
            "  [ 78.36572 ]\n",
            "  [ 50.730957]\n",
            "  ...\n",
            "  [ 72.03125 ]\n",
            "  [ 71.015625]\n",
            "  [ 72.      ]]\n",
            "\n",
            " ...\n",
            "\n",
            " [[191.      ]\n",
            "  [191.      ]\n",
            "  [191.      ]\n",
            "  ...\n",
            "  [187.      ]\n",
            "  [187.      ]\n",
            "  [187.      ]]\n",
            "\n",
            " [[191.      ]\n",
            "  [191.      ]\n",
            "  [190.      ]\n",
            "  ...\n",
            "  [187.      ]\n",
            "  [186.      ]\n",
            "  [185.15625 ]]\n",
            "\n",
            " [[191.      ]\n",
            "  [191.79688 ]\n",
            "  [191.      ]\n",
            "  ...\n",
            "  [187.      ]\n",
            "  [187.      ]\n",
            "  [187.79688 ]]], shape=(128, 128, 1), dtype=float32)\n",
            "tf.Tensor(b'image', shape=(), dtype=string)\n",
            "tf.Tensor(\n",
            "[[[ 21.        65.       190.      ]\n",
            "  [ 21.782242  65.78224  190.78224 ]\n",
            "  [ 23.871094  67.87109  192.8711  ]\n",
            "  ...\n",
            "  [ 31.        75.       200.      ]\n",
            "  [ 31.554688  74.16797  200.27734 ]\n",
            "  [ 33.        72.       201.      ]]\n",
            "\n",
            " [[ 21.        65.       190.      ]\n",
            "  [ 22.465775  66.465775 191.46577 ]\n",
            "  [ 23.954178  67.95418  192.95418 ]\n",
            "  ...\n",
            "  [ 31.561447  75.56145  200.56145 ]\n",
            "  [ 31.554688  74.16797  200.27734 ]\n",
            "  [ 33.        72.       201.      ]]\n",
            "\n",
            " [[ 22.042618  66.04262  191.04262 ]\n",
            "  [ 23.053635  67.053635 192.05363 ]\n",
            "  [ 24.880661  68.88066  193.88066 ]\n",
            "  ...\n",
            "  [ 32.06465   76.06465  201.06465 ]\n",
            "  [ 32.554688  75.16797  201.27734 ]\n",
            "  [ 34.        73.       202.      ]]\n",
            "\n",
            " ...\n",
            "\n",
            " [[ 36.07422   98.07422  217.07422 ]\n",
            "  [ 37.722656  99.72266  218.72266 ]\n",
            "  [ 39.06465  101.06465  220.06465 ]\n",
            "  ...\n",
            "  [ 39.       108.       229.      ]\n",
            "  [ 38.74324  106.91121  228.18855 ]\n",
            "  [ 38.07422  104.07422  226.07422 ]]\n",
            "\n",
            " [[ 35.64453   97.64453  216.64453 ]\n",
            "  [ 36.722656  98.72266  217.72266 ]\n",
            "  [ 38.515625 100.515625 219.51562 ]\n",
            "  ...\n",
            "  [ 39.       108.       229.      ]\n",
            "  [ 38.722656 106.890625 228.16797 ]\n",
            "  [ 38.       104.       226.      ]]\n",
            "\n",
            " [[ 35.        97.       216.      ]\n",
            "  [ 36.15526   98.15526  217.15526 ]\n",
            "  [ 37.871094  99.87109  218.8711  ]\n",
            "  ...\n",
            "  [ 39.       108.       229.      ]\n",
            "  [ 38.504898 106.67287  227.95021 ]\n",
            "  [ 37.214844 103.21484  225.21484 ]]], shape=(128, 128, 3), dtype=float32)\n",
            "tf.Tensor(b'image', shape=(), dtype=string)\n"
          ]
        }
      ]
    }
  ]
}